{
 "cells": [
  {
   "cell_type": "markdown",
   "id": "68a70e84",
   "metadata": {},
   "source": [
   
   
   ]
  },
  {
   "cell_type": "markdown",
   "id": "f0535aee",
   "metadata": {},
   "source": [
    "***Исследование поездок на арендованных самокатах***\n",
    "\n",
    "Необходимо проанализировать данные популярного сервиса аренды самокатов GoFast. У меня есть данные о некоторых пользователях из нескольких городов, а также об их поездках. Хочу проверить некоторые гипотезы, которые могут помочь бизнесу вырасти.\n",
    "Чтобы совершать поездки по городу, пользователи сервиса GoFast пользуются мобильным приложением. Сервисом можно пользоваться:\n",
    "без подписки, и с подпиской, условия в таком случае разные.\n",
    "\n",
    "**Цель исследования:**\n",
    "1)Выяснить, в каких городах сервис наиболее популярен\n",
    "2)Понять, какого возраста больше пользователей, с подпиской или без\n",
    "3)Определить расстояния и продолжительность поездок пользователей с и без подписки\n",
    "4)Подвести итог - кто из пользователей тратят больше времени на поездку и приносят больше выручки - с подпиской или без нее.\n",
    "\n",
    "**Ход исследования:**\n",
    "Данные получены из нескольких файлов: users_go.csv,  rides_go.csv, subscriptions_go.csv. Перед началом работы я проверю данные на наличие пропусков и дубликатов. После этого объединю данные в сводную таблицу и визуализирую при помощи диаграмм. Так же проверю несколько гипотез\n",
    "\n",
    "Подробные шаги прописаны ниже в проекте."
   ]
  },
  {
   "cell_type": "code",
   "execution_count": 1,
   "id": "72576667",
   "metadata": {},
   "outputs": [],
   "source": [
    "import pandas as pd\n",
    "import matplotlib.pyplot as plt\n",
    "import seaborn as sns\n",
    "import numpy as np\n",
    "import scipy.stats as st"
   ]
  },
  {
   "cell_type": "markdown",
   "id": "c42cbe00",
   "metadata": {},
   "source": [
    "#### Шаг 1. Загрузка данных"
   ]
  },
  {
   "cell_type": "code",
   "execution_count": 2,
   "id": "eff9f206",
   "metadata": {},
   "outputs": [],
   "source": [
    "users = pd.read_csv('/datasets/users_go.csv')\n",
    "rides = pd.read_csv('/datasets/rides_go.csv')\n",
    "subscriptions = pd.read_csv('/datasets/subscriptions_go.csv')"
   ]
  },
  {
   "cell_type": "markdown",
   "id": "ef092d7d",
   "metadata": {},
   "source": [
    "следующим шагом выведу первые строки и инфу о типах строк для каждой таблицы"
   ]
  },
  {
   "cell_type": "code",
   "execution_count": 3,
   "id": "8fd5a107",
   "metadata": {},
   "outputs": [
    {
     "data": {
      "text/html": [
       "<div>\n",
       "<style scoped>\n",
       "    .dataframe tbody tr th:only-of-type {\n",
       "        vertical-align: middle;\n",
       "    }\n",
       "\n",
       "    .dataframe tbody tr th {\n",
       "        vertical-align: top;\n",
       "    }\n",
       "\n",
       "    .dataframe thead th {\n",
       "        text-align: right;\n",
       "    }\n",
       "</style>\n",
       "<table border=\"1\" class=\"dataframe\">\n",
       "  <thead>\n",
       "    <tr style=\"text-align: right;\">\n",
       "      <th></th>\n",
       "      <th>user_id</th>\n",
       "      <th>name</th>\n",
       "      <th>age</th>\n",
       "      <th>city</th>\n",
       "      <th>subscription_type</th>\n",
       "    </tr>\n",
       "  </thead>\n",
       "  <tbody>\n",
       "    <tr>\n",
       "      <th>0</th>\n",
       "      <td>1</td>\n",
       "      <td>Кира</td>\n",
       "      <td>22</td>\n",
       "      <td>Тюмень</td>\n",
       "      <td>ultra</td>\n",
       "    </tr>\n",
       "    <tr>\n",
       "      <th>1</th>\n",
       "      <td>2</td>\n",
       "      <td>Станислав</td>\n",
       "      <td>31</td>\n",
       "      <td>Омск</td>\n",
       "      <td>ultra</td>\n",
       "    </tr>\n",
       "    <tr>\n",
       "      <th>2</th>\n",
       "      <td>3</td>\n",
       "      <td>Алексей</td>\n",
       "      <td>20</td>\n",
       "      <td>Москва</td>\n",
       "      <td>ultra</td>\n",
       "    </tr>\n",
       "    <tr>\n",
       "      <th>3</th>\n",
       "      <td>4</td>\n",
       "      <td>Константин</td>\n",
       "      <td>26</td>\n",
       "      <td>Ростов-на-Дону</td>\n",
       "      <td>ultra</td>\n",
       "    </tr>\n",
       "    <tr>\n",
       "      <th>4</th>\n",
       "      <td>5</td>\n",
       "      <td>Адель</td>\n",
       "      <td>28</td>\n",
       "      <td>Омск</td>\n",
       "      <td>ultra</td>\n",
       "    </tr>\n",
       "  </tbody>\n",
       "</table>\n",
       "</div>"
      ],
      "text/plain": [
       "   user_id        name  age            city subscription_type\n",
       "0        1        Кира   22          Тюмень             ultra\n",
       "1        2   Станислав   31            Омск             ultra\n",
       "2        3     Алексей   20          Москва             ultra\n",
       "3        4  Константин   26  Ростов-на-Дону             ultra\n",
       "4        5       Адель   28            Омск             ultra"
      ]
     },
     "execution_count": 3,
     "metadata": {},
     "output_type": "execute_result"
    }
   ],
   "source": [
    "users.head()"
   ]
  },
  {
   "cell_type": "code",
   "execution_count": 4,
   "id": "64452733",
   "metadata": {},
   "outputs": [
    {
     "name": "stdout",
     "output_type": "stream",
     "text": [
      "<class 'pandas.core.frame.DataFrame'>\n",
      "RangeIndex: 1565 entries, 0 to 1564\n",
      "Data columns (total 5 columns):\n",
      " #   Column             Non-Null Count  Dtype \n",
      "---  ------             --------------  ----- \n",
      " 0   user_id            1565 non-null   int64 \n",
      " 1   name               1565 non-null   object\n",
      " 2   age                1565 non-null   int64 \n",
      " 3   city               1565 non-null   object\n",
      " 4   subscription_type  1565 non-null   object\n",
      "dtypes: int64(2), object(3)\n",
      "memory usage: 61.3+ KB\n"
     ]
    }
   ],
   "source": [
    "users.info()"
   ]
  },
  {
   "cell_type": "code",
   "execution_count": 5,
   "id": "9f437a54",
   "metadata": {},
   "outputs": [
    {
     "data": {
      "text/html": [
       "<div>\n",
       "<style scoped>\n",
       "    .dataframe tbody tr th:only-of-type {\n",
       "        vertical-align: middle;\n",
       "    }\n",
       "\n",
       "    .dataframe tbody tr th {\n",
       "        vertical-align: top;\n",
       "    }\n",
       "\n",
       "    .dataframe thead th {\n",
       "        text-align: right;\n",
       "    }\n",
       "</style>\n",
       "<table border=\"1\" class=\"dataframe\">\n",
       "  <thead>\n",
       "    <tr style=\"text-align: right;\">\n",
       "      <th></th>\n",
       "      <th>user_id</th>\n",
       "      <th>distance</th>\n",
       "      <th>duration</th>\n",
       "      <th>date</th>\n",
       "    </tr>\n",
       "  </thead>\n",
       "  <tbody>\n",
       "    <tr>\n",
       "      <th>0</th>\n",
       "      <td>1</td>\n",
       "      <td>4409.919140</td>\n",
       "      <td>25.599769</td>\n",
       "      <td>2021-01-01</td>\n",
       "    </tr>\n",
       "    <tr>\n",
       "      <th>1</th>\n",
       "      <td>1</td>\n",
       "      <td>2617.592153</td>\n",
       "      <td>15.816871</td>\n",
       "      <td>2021-01-18</td>\n",
       "    </tr>\n",
       "    <tr>\n",
       "      <th>2</th>\n",
       "      <td>1</td>\n",
       "      <td>754.159807</td>\n",
       "      <td>6.232113</td>\n",
       "      <td>2021-04-20</td>\n",
       "    </tr>\n",
       "    <tr>\n",
       "      <th>3</th>\n",
       "      <td>1</td>\n",
       "      <td>2694.783254</td>\n",
       "      <td>18.511000</td>\n",
       "      <td>2021-08-11</td>\n",
       "    </tr>\n",
       "    <tr>\n",
       "      <th>4</th>\n",
       "      <td>1</td>\n",
       "      <td>4028.687306</td>\n",
       "      <td>26.265803</td>\n",
       "      <td>2021-08-28</td>\n",
       "    </tr>\n",
       "  </tbody>\n",
       "</table>\n",
       "</div>"
      ],
      "text/plain": [
       "   user_id     distance   duration        date\n",
       "0        1  4409.919140  25.599769  2021-01-01\n",
       "1        1  2617.592153  15.816871  2021-01-18\n",
       "2        1   754.159807   6.232113  2021-04-20\n",
       "3        1  2694.783254  18.511000  2021-08-11\n",
       "4        1  4028.687306  26.265803  2021-08-28"
      ]
     },
     "execution_count": 5,
     "metadata": {},
     "output_type": "execute_result"
    }
   ],
   "source": [
    "rides.head()"
   ]
  },
  {
   "cell_type": "code",
   "execution_count": 6,
   "id": "4218fb7c",
   "metadata": {},
   "outputs": [
    {
     "name": "stdout",
     "output_type": "stream",
     "text": [
      "<class 'pandas.core.frame.DataFrame'>\n",
      "RangeIndex: 18068 entries, 0 to 18067\n",
      "Data columns (total 4 columns):\n",
      " #   Column    Non-Null Count  Dtype  \n",
      "---  ------    --------------  -----  \n",
      " 0   user_id   18068 non-null  int64  \n",
      " 1   distance  18068 non-null  float64\n",
      " 2   duration  18068 non-null  float64\n",
      " 3   date      18068 non-null  object \n",
      "dtypes: float64(2), int64(1), object(1)\n",
      "memory usage: 564.8+ KB\n"
     ]
    }
   ],
   "source": [
    "rides.info()"
   ]
  },
  {
   "cell_type": "code",
   "execution_count": 7,
   "id": "cf762dc4",
   "metadata": {},
   "outputs": [
    {
     "data": {
      "text/html": [
       "<div>\n",
       "<style scoped>\n",
       "    .dataframe tbody tr th:only-of-type {\n",
       "        vertical-align: middle;\n",
       "    }\n",
       "\n",
       "    .dataframe tbody tr th {\n",
       "        vertical-align: top;\n",
       "    }\n",
       "\n",
       "    .dataframe thead th {\n",
       "        text-align: right;\n",
       "    }\n",
       "</style>\n",
       "<table border=\"1\" class=\"dataframe\">\n",
       "  <thead>\n",
       "    <tr style=\"text-align: right;\">\n",
       "      <th></th>\n",
       "      <th>subscription_type</th>\n",
       "      <th>minute_price</th>\n",
       "      <th>start_ride_price</th>\n",
       "      <th>subscription_fee</th>\n",
       "    </tr>\n",
       "  </thead>\n",
       "  <tbody>\n",
       "    <tr>\n",
       "      <th>0</th>\n",
       "      <td>free</td>\n",
       "      <td>8</td>\n",
       "      <td>50</td>\n",
       "      <td>0</td>\n",
       "    </tr>\n",
       "    <tr>\n",
       "      <th>1</th>\n",
       "      <td>ultra</td>\n",
       "      <td>6</td>\n",
       "      <td>0</td>\n",
       "      <td>199</td>\n",
       "    </tr>\n",
       "  </tbody>\n",
       "</table>\n",
       "</div>"
      ],
      "text/plain": [
       "  subscription_type  minute_price  start_ride_price  subscription_fee\n",
       "0              free             8                50                 0\n",
       "1             ultra             6                 0               199"
      ]
     },
     "execution_count": 7,
     "metadata": {},
     "output_type": "execute_result"
    }
   ],
   "source": [
    "subscriptions.head()"
   ]
  },
  {
   "cell_type": "code",
   "execution_count": 8,
   "id": "26bc0596",
   "metadata": {},
   "outputs": [
    {
     "name": "stdout",
     "output_type": "stream",
     "text": [
      "<class 'pandas.core.frame.DataFrame'>\n",
      "RangeIndex: 2 entries, 0 to 1\n",
      "Data columns (total 4 columns):\n",
      " #   Column             Non-Null Count  Dtype \n",
      "---  ------             --------------  ----- \n",
      " 0   subscription_type  2 non-null      object\n",
      " 1   minute_price       2 non-null      int64 \n",
      " 2   start_ride_price   2 non-null      int64 \n",
      " 3   subscription_fee   2 non-null      int64 \n",
      "dtypes: int64(3), object(1)\n",
      "memory usage: 192.0+ bytes\n"
     ]
    }
   ],
   "source": [
    "subscriptions.info()"
   ]
  },
  {
   "cell_type": "markdown",
   "id": "be172375",
   "metadata": {},
   "source": [
    "**Вывод по шагу 1:**\n",
    " - уже сейчас заметно, что тип данных колонки с датой не соответствует дате;\n",
    " - остальные колонки в норме.\n"
   ]
  },
  {
   "cell_type": "markdown",
   "id": "e95ebca7",
   "metadata": {},
   "source": [
    "#### Шаг 2. Предобработка данных"
   ]
  },
  {
   "cell_type": "markdown",
   "id": "592e5c66",
   "metadata": {},
   "source": [
    "##### Приведение date к типу даты pandas"
   ]
  },
  {
   "cell_type": "code",
   "execution_count": 9,
   "id": "af6d202c",
   "metadata": {},
   "outputs": [
    {
     "name": "stdout",
     "output_type": "stream",
     "text": [
      "<class 'pandas.core.frame.DataFrame'>\n",
      "RangeIndex: 18068 entries, 0 to 18067\n",
      "Data columns (total 4 columns):\n",
      " #   Column    Non-Null Count  Dtype         \n",
      "---  ------    --------------  -----         \n",
      " 0   user_id   18068 non-null  int64         \n",
      " 1   distance  18068 non-null  float64       \n",
      " 2   duration  18068 non-null  float64       \n",
      " 3   date      18068 non-null  datetime64[ns]\n",
      "dtypes: datetime64[ns](1), float64(2), int64(1)\n",
      "memory usage: 564.8 KB\n"
     ]
    }
   ],
   "source": [
    "rides['date'] = rides['date'].astype('datetime64')\n",
    "rides.info()"
   ]
  },
  {
   "cell_type": "markdown",
   "id": "97afc6b1",
   "metadata": {},
   "source": [
    "##### Создание нового столбца с номером месяца на основе столбца date"
   ]
  },
  {
   "cell_type": "code",
   "execution_count": 10,
   "id": "f4ff5a04",
   "metadata": {},
   "outputs": [
    {
     "name": "stdout",
     "output_type": "stream",
     "text": [
      "<class 'pandas.core.frame.DataFrame'>\n",
      "RangeIndex: 18068 entries, 0 to 18067\n",
      "Data columns (total 5 columns):\n",
      " #   Column    Non-Null Count  Dtype         \n",
      "---  ------    --------------  -----         \n",
      " 0   user_id   18068 non-null  int64         \n",
      " 1   distance  18068 non-null  float64       \n",
      " 2   duration  18068 non-null  float64       \n",
      " 3   date      18068 non-null  datetime64[ns]\n",
      " 4   month     18068 non-null  int64         \n",
      "dtypes: datetime64[ns](1), float64(2), int64(2)\n",
      "memory usage: 705.9 KB\n"
     ]
    }
   ],
   "source": [
    "rides['month'] = rides['date'].dt.month\n",
    "rides.info()"
   ]
  },
  {
   "cell_type": "code",
   "execution_count": 11,
   "id": "0c8920e9",
   "metadata": {},
   "outputs": [
    {
     "data": {
      "text/plain": [
       "array([2021])"
      ]
     },
     "execution_count": 11,
     "metadata": {},
     "output_type": "execute_result"
    }
   ],
   "source": [
    "rides['year'] = rides['date'].dt.year\n",
    "rides['year'].unique()"
   ]
  },
  {
   "cell_type": "markdown",
   "id": "aa60b503",
   "metadata": {},
   "source": [
    "Вывод: Год только 2021 - месяцы корректно отобразятся."
   ]
  },
  {
   "cell_type": "markdown",
   "id": "7d127412",
   "metadata": {},
   "source": [
    "##### Обработка дубликатов и пропущенных значений"
   ]
  },
  {
   "cell_type": "markdown",
   "id": "f1c038af",
   "metadata": {},
   "source": [
    "###### Таблица users"
   ]
  },
  {
   "cell_type": "code",
   "execution_count": 12,
   "id": "4bbeedfb",
   "metadata": {},
   "outputs": [
    {
     "data": {
      "text/plain": [
       "user_id              0\n",
       "name                 0\n",
       "age                  0\n",
       "city                 0\n",
       "subscription_type    0\n",
       "dtype: int64"
      ]
     },
     "execution_count": 12,
     "metadata": {},
     "output_type": "execute_result"
    }
   ],
   "source": [
    "users.isna().sum()"
   ]
  },
  {
   "cell_type": "code",
   "execution_count": 13,
   "id": "6998176b",
   "metadata": {},
   "outputs": [
    {
     "name": "stdout",
     "output_type": "stream",
     "text": [
      "Количество явных дубликатов: 31\n"
     ]
    }
   ],
   "source": [
    "print('Количество явных дубликатов:', users.duplicated().sum())"
   ]
  },
  {
   "cell_type": "code",
   "execution_count": 14,
   "id": "58415ca8",
   "metadata": {},
   "outputs": [
    {
     "name": "stdout",
     "output_type": "stream",
     "text": [
      "Количество явных дубликатов после обработки: 0\n"
     ]
    }
   ],
   "source": [
    "users = users.drop_duplicates()\n",
    "print('Количество явных дубликатов после обработки:', users.duplicated().sum())"
   ]
  },
  {
   "cell_type": "code",
   "execution_count": 15,
   "id": "6251985c",
   "metadata": {},
   "outputs": [
    {
     "data": {
      "text/plain": [
       "array(['Тюмень', 'Омск', 'Москва', 'Ростов-на-Дону', 'Краснодар',\n",
       "       'Пятигорск', 'Екатеринбург', 'Сочи'], dtype=object)"
      ]
     },
     "execution_count": 15,
     "metadata": {},
     "output_type": "execute_result"
    }
   ],
   "source": [
    "users['city'].unique()"
   ]
  },
  {
   "cell_type": "markdown",
   "id": "11613bde",
   "metadata": {},
   "source": [
    "С городами все ок, все значения уникальные и записаны одинаково без сокращений, в остальных колонках и так содержатся уникальные значения"
   ]
  },
  {
   "cell_type": "markdown",
   "id": "42fc91f9",
   "metadata": {},
   "source": [
    "###### Таблица rides "
   ]
  },
  {
   "cell_type": "code",
   "execution_count": 16,
   "id": "e46b041b",
   "metadata": {},
   "outputs": [
    {
     "data": {
      "text/plain": [
       "user_id     0\n",
       "distance    0\n",
       "duration    0\n",
       "date        0\n",
       "month       0\n",
       "year        0\n",
       "dtype: int64"
      ]
     },
     "execution_count": 16,
     "metadata": {},
     "output_type": "execute_result"
    }
   ],
   "source": [
    "rides.isna().sum()"
   ]
  },
  {
   "cell_type": "code",
   "execution_count": 17,
   "id": "2f0bb798",
   "metadata": {},
   "outputs": [
    {
     "name": "stdout",
     "output_type": "stream",
     "text": [
      "Количество явных дубликатов: 0\n"
     ]
    }
   ],
   "source": [
    "print('Количество явных дубликатов:', rides.duplicated().sum())"
   ]
  },
  {
   "cell_type": "markdown",
   "id": "74bccc6b",
   "metadata": {},
   "source": [
    "Пропусков и дубликатов нет, неочевидных дубликатов не дожно быть, т.к. там и так все уникальные значения пользователя."
   ]
  },
  {
   "cell_type": "markdown",
   "id": "6c6a7cf1",
   "metadata": {},
   "source": [
    "###### Таблица subscriptions"
   ]
  },
  {
   "cell_type": "code",
   "execution_count": 18,
   "id": "ff23d87d",
   "metadata": {},
   "outputs": [
    {
     "data": {
      "text/plain": [
       "subscription_type    0\n",
       "minute_price         0\n",
       "start_ride_price     0\n",
       "subscription_fee     0\n",
       "dtype: int64"
      ]
     },
     "execution_count": 18,
     "metadata": {},
     "output_type": "execute_result"
    }
   ],
   "source": [
    "subscriptions.isna().sum()"
   ]
  },
  {
   "cell_type": "code",
   "execution_count": 19,
   "id": "13065963",
   "metadata": {},
   "outputs": [
    {
     "name": "stdout",
     "output_type": "stream",
     "text": [
      "Количество явных дубликатов: 0\n"
     ]
    }
   ],
   "source": [
    "print('Количество явных дубликатов:', subscriptions.duplicated().sum())"
   ]
  },
  {
   "cell_type": "markdown",
   "id": "69131ca5",
   "metadata": {},
   "source": [
    "Пропусков и дубликатов нет, неочевидных дубликатов не дожно быть, т.к. таблица состоит из инфы всего лишь о 2-х подписках."
   ]
  },
  {
   "cell_type": "markdown",
   "id": "6888d01f",
   "metadata": {},
   "source": [
    "**Вывод по шагу 2:**\n",
    " - создала доп.столбец с месяцем\n",
    " - проверила каждую таблицу на наличие пропусков и устранила их\n",
    " - проверила каждую таблицу на наличие очевидных и неочевидных дубликатов и обработала их"
   ]
  },
  {
   "cell_type": "markdown",
   "id": "212593c7",
   "metadata": {},
   "source": [
    "#### Шаг 3. Исследовательский анализ данных"
   ]
  },
  {
   "cell_type": "markdown",
   "id": "57238d51",
   "metadata": {},
   "source": [
    "##### Частота встречаемости городов"
   ]
  },
  {
   "cell_type": "code",
   "execution_count": 53,
   "id": "fc730aeb",
   "metadata": {},
   "outputs": [
    {
     "data": {
      "image/png": "[encoded data removed]",
      "text/plain": [
       "<Figure size 864x432 with 1 Axes>"
      ]
     },
     "metadata": {
      "needs_background": "light"
     },
     "output_type": "display_data"
    }
   ],
   "source": [
    "import seaborn as sns\n",
    "import matplotlib.pyplot as plt\n",
    "\n",
    "city_counts = users['city'].value_counts().sort_values(ascending=False)  # Сортируем значения по частоте\n",
    "\n",
    "plt.figure(figsize=(12, 6))  # Устанавливаем размер графика\n",
    "\n",
    "sns.barplot(x=city_counts.values, y=city_counts.index, palette='viridis')  # Создаем горизонтальный столбчатый график\n",
    "\n",
    "plt.xlabel('Частота')  \n",
    "plt.ylabel('Города')\n",
    "plt.title('Распределение городов')\n",
    "\n",
    "plt.show()\n"
   ]
  },
  {
   "cell_type": "markdown",
   "id": "0d5731ca",
   "metadata": {},
   "source": [
    "##### Соотношение пользователей с подпиской и без подписки"
   ]
  },
  {
   "cell_type": "code",
   "execution_count": 24,
   "id": "18157466",
   "metadata": {},
   "outputs": [
    {
     "data": {
      "image/png": "[encoded data removed]",
      "text/plain": [
       "<Figure size 288x288 with 1 Axes>"
      ]
     },
     "metadata": {},
     "output_type": "display_data"
    }
   ],
   "source": [
    "users['subscription_type'].value_counts().plot(kind='pie',figsize=(4,4), autopct='%1.1f%%', title='Доля подписок')\n",
    "plt.show()\n"
   ]
  },
  {
   "cell_type": "markdown",
   "id": "434a872a",
   "metadata": {},
   "source": [
    "Сервис наиболее популярен у людей, не пользующихся подпиской - их более половины - 54%."
   ]
  },
  {
   "cell_type": "markdown",
   "id": "8b6d3cf6",
   "metadata": {},
   "source": [
    "##### Возраст пользователей"
   ]
  },
  {
   "cell_type": "code",
   "execution_count": 25,
   "id": "9ce2e8a9",
   "metadata": {},
   "outputs": [
    {
     "data": {
      "image/png": "[encoded data removed]",
      "text/plain": [
       "<Figure size 720x360 with 1 Axes>"
      ]
     },
     "metadata": {
      "needs_background": "light"
     },
     "output_type": "display_data"
    },
    {
     "data": {
      "image/png": "[encoded data removed]",
      "text/plain": [
       "<Figure size 432x288 with 1 Axes>"
      ]
     },
     "metadata": {
      "needs_background": "light"
     },
     "output_type": "display_data"
    }
   ],
   "source": [
    "users['age'].hist(grid=True, figsize=(10,5), bins=50)\n",
    "\n",
    "plt.title('Возраст пользователей')\n",
    "plt.xlabel('Возраст, лет')  \n",
    "plt.ylabel('Частота')\n",
    "plt.show()\n",
    "\n",
    "users['age'].plot.box(title='Распределение возраста', ylabel='Возраст, лет')\n",
    "plt.ylim(0,50)\n",
    "plt.show()"
   ]
  },
  {
   "cell_type": "markdown",
   "id": "59aa3552",
   "metadata": {},
   "source": [
    "Сервис наиболее популярен у людей 25 лет. Мало пользователей возраст до 15 и после 35."
   ]
  },
  {
   "cell_type": "markdown",
   "id": "023c3151",
   "metadata": {},
   "source": [
    "##### Расстояние, которое пользователь преодолел за одну поездку"
   ]
  },
  {
   "cell_type": "code",
   "execution_count": 26,
   "id": "4e364a45",
   "metadata": {},
   "outputs": [
    {
     "data": {
      "image/png": "[encoded data removed]",
      "text/plain": [
       "<Figure size 720x360 with 1 Axes>"
      ]
     },
     "metadata": {
      "needs_background": "light"
     },
     "output_type": "display_data"
    },
    {
     "data": {
      "image/png": "[encoded data removed]",
      "text/plain": [
       "<Figure size 432x288 with 1 Axes>"
      ]
     },
     "metadata": {
      "needs_background": "light"
     },
     "output_type": "display_data"
    }
   ],
   "source": [
    "rides['distance'].hist(grid=True, figsize=(10,5), bins=100)\n",
    "\n",
    "plt.title('Раcстояние каждой поездки')\n",
    "plt.xlabel('Расстояние, м')  \n",
    "plt.ylabel('Частота')\n",
    "plt.show()\n",
    "\n",
    "rides['distance'].plot.box(title='Распределение расстояния поездок', ylabel='Расстояние, м')\n",
    "plt.ylim(0,8000)\n",
    "plt.show()"
   ]
  },
  {
   "cell_type": "markdown",
   "id": "d0805bf3",
   "metadata": {},
   "source": [
    "В среднем, каждая поездка составляет 2500-3500 м. \n",
    "\n",
    "Слишком дальние поездки от 5000 м (или 5км) редки и их индивидуально менее 100, как и слишком коротких поездок, до 2000 м\n",
    "Возможно, это невыгодно -  т.к. клиент платит за старт, поэтому стремится проехать как можно большее расстояние за поездку.\n"
   ]
  },
  {
   "cell_type": "markdown",
   "id": "69cf677c",
   "metadata": {},
   "source": [
    "##### Продолжительность поездок"
   ]
  },
  {
   "cell_type": "code",
   "execution_count": 27,
   "id": "a1ceb451",
   "metadata": {},
   "outputs": [
    {
     "data": {
      "image/png": "[encoded data removed]",
      "text/plain": [
       "<Figure size 720x360 with 1 Axes>"
      ]
     },
     "metadata": {
      "needs_background": "light"
     },
     "output_type": "display_data"
    },
    {
     "data": {
      "image/png": "[encoded data removed]",
      "text/plain": [
       "<Figure size 432x288 with 1 Axes>"
      ]
     },
     "metadata": {
      "needs_background": "light"
     },
     "output_type": "display_data"
    }
   ],
   "source": [
    "rides['duration'].hist(grid=True, figsize=(10,5), bins=50)\n",
    "\n",
    "plt.title('Продолжительность каждой поездки')\n",
    "plt.xlabel('Время, мин')  \n",
    "plt.ylabel('Частота')\n",
    "plt.show()\n",
    "\n",
    "rides['duration'].plot.box(title='Распределение продолжительности поездок', ylabel='Время, мин')\n",
    "plt.ylim(0, 50)\n",
    "plt.show()"
   ]
  },
  {
   "cell_type": "markdown",
   "id": "75a4fd87",
   "metadata": {},
   "source": [
    "В основном, пользователи стремятся к тому, чтобы поездка длилась где-то от 15 до 20 мин.\n",
    "Это соотносится с графиком выше, если средняя скорость поездки на самокате 10км/ч (или 166 м/мин), то за 15 мин как раз можно проехать в среднем от 2500 м.\n",
    "Реже наблюдаются совсем долгие поездки (более 25 мин) и совсем короткие (до 10 мин)"
   ]
  },
  {
   "cell_type": "markdown",
   "id": "4ef51331",
   "metadata": {},
   "source": [
    "#### Шаг 4. Объединение данных"
   ]
  },
  {
   "cell_type": "markdown",
   "id": "cdce908d",
   "metadata": {},
   "source": [
    "##### Объединение данных о пользователях, поездках и подписках в один датафрейм"
   ]
  },
  {
   "cell_type": "code",
   "execution_count": 28,
   "id": "40aa4425",
   "metadata": {},
   "outputs": [
    {
     "data": {
      "text/plain": [
       "18068"
      ]
     },
     "execution_count": 28,
     "metadata": {},
     "output_type": "execute_result"
    }
   ],
   "source": [
    "#инфо до данных ДО объединения\n",
    "rides.shape[0]"
   ]
  },
  {
   "cell_type": "code",
   "execution_count": 29,
   "id": "3ebf926b",
   "metadata": {},
   "outputs": [
    {
     "data": {
      "text/html": [
       "<div>\n",
       "<style scoped>\n",
       "    .dataframe tbody tr th:only-of-type {\n",
       "        vertical-align: middle;\n",
       "    }\n",
       "\n",
       "    .dataframe tbody tr th {\n",
       "        vertical-align: top;\n",
       "    }\n",
       "\n",
       "    .dataframe thead th {\n",
       "        text-align: right;\n",
       "    }\n",
       "</style>\n",
       "<table border=\"1\" class=\"dataframe\">\n",
       "  <thead>\n",
       "    <tr style=\"text-align: right;\">\n",
       "      <th></th>\n",
       "      <th>user_id</th>\n",
       "      <th>name</th>\n",
       "      <th>age</th>\n",
       "      <th>city</th>\n",
       "      <th>subscription_type</th>\n",
       "      <th>distance</th>\n",
       "      <th>duration</th>\n",
       "      <th>date</th>\n",
       "      <th>month</th>\n",
       "      <th>year</th>\n",
       "      <th>minute_price</th>\n",
       "      <th>start_ride_price</th>\n",
       "      <th>subscription_fee</th>\n",
       "    </tr>\n",
       "  </thead>\n",
       "  <tbody>\n",
       "    <tr>\n",
       "      <th>0</th>\n",
       "      <td>1</td>\n",
       "      <td>Кира</td>\n",
       "      <td>22</td>\n",
       "      <td>Тюмень</td>\n",
       "      <td>ultra</td>\n",
       "      <td>4409.919140</td>\n",
       "      <td>25.599769</td>\n",
       "      <td>2021-01-01</td>\n",
       "      <td>1</td>\n",
       "      <td>2021</td>\n",
       "      <td>6</td>\n",
       "      <td>0</td>\n",
       "      <td>199</td>\n",
       "    </tr>\n",
       "    <tr>\n",
       "      <th>1</th>\n",
       "      <td>1</td>\n",
       "      <td>Кира</td>\n",
       "      <td>22</td>\n",
       "      <td>Тюмень</td>\n",
       "      <td>ultra</td>\n",
       "      <td>2617.592153</td>\n",
       "      <td>15.816871</td>\n",
       "      <td>2021-01-18</td>\n",
       "      <td>1</td>\n",
       "      <td>2021</td>\n",
       "      <td>6</td>\n",
       "      <td>0</td>\n",
       "      <td>199</td>\n",
       "    </tr>\n",
       "    <tr>\n",
       "      <th>2</th>\n",
       "      <td>1</td>\n",
       "      <td>Кира</td>\n",
       "      <td>22</td>\n",
       "      <td>Тюмень</td>\n",
       "      <td>ultra</td>\n",
       "      <td>754.159807</td>\n",
       "      <td>6.232113</td>\n",
       "      <td>2021-04-20</td>\n",
       "      <td>4</td>\n",
       "      <td>2021</td>\n",
       "      <td>6</td>\n",
       "      <td>0</td>\n",
       "      <td>199</td>\n",
       "    </tr>\n",
       "    <tr>\n",
       "      <th>3</th>\n",
       "      <td>1</td>\n",
       "      <td>Кира</td>\n",
       "      <td>22</td>\n",
       "      <td>Тюмень</td>\n",
       "      <td>ultra</td>\n",
       "      <td>2694.783254</td>\n",
       "      <td>18.511000</td>\n",
       "      <td>2021-08-11</td>\n",
       "      <td>8</td>\n",
       "      <td>2021</td>\n",
       "      <td>6</td>\n",
       "      <td>0</td>\n",
       "      <td>199</td>\n",
       "    </tr>\n",
       "    <tr>\n",
       "      <th>4</th>\n",
       "      <td>1</td>\n",
       "      <td>Кира</td>\n",
       "      <td>22</td>\n",
       "      <td>Тюмень</td>\n",
       "      <td>ultra</td>\n",
       "      <td>4028.687306</td>\n",
       "      <td>26.265803</td>\n",
       "      <td>2021-08-28</td>\n",
       "      <td>8</td>\n",
       "      <td>2021</td>\n",
       "      <td>6</td>\n",
       "      <td>0</td>\n",
       "      <td>199</td>\n",
       "    </tr>\n",
       "    <tr>\n",
       "      <th>...</th>\n",
       "      <td>...</td>\n",
       "      <td>...</td>\n",
       "      <td>...</td>\n",
       "      <td>...</td>\n",
       "      <td>...</td>\n",
       "      <td>...</td>\n",
       "      <td>...</td>\n",
       "      <td>...</td>\n",
       "      <td>...</td>\n",
       "      <td>...</td>\n",
       "      <td>...</td>\n",
       "      <td>...</td>\n",
       "      <td>...</td>\n",
       "    </tr>\n",
       "    <tr>\n",
       "      <th>18063</th>\n",
       "      <td>1534</td>\n",
       "      <td>Альберт</td>\n",
       "      <td>25</td>\n",
       "      <td>Краснодар</td>\n",
       "      <td>free</td>\n",
       "      <td>3781.098080</td>\n",
       "      <td>19.822962</td>\n",
       "      <td>2021-11-04</td>\n",
       "      <td>11</td>\n",
       "      <td>2021</td>\n",
       "      <td>8</td>\n",
       "      <td>50</td>\n",
       "      <td>0</td>\n",
       "    </tr>\n",
       "    <tr>\n",
       "      <th>18064</th>\n",
       "      <td>1534</td>\n",
       "      <td>Альберт</td>\n",
       "      <td>25</td>\n",
       "      <td>Краснодар</td>\n",
       "      <td>free</td>\n",
       "      <td>2840.423057</td>\n",
       "      <td>21.409799</td>\n",
       "      <td>2021-11-16</td>\n",
       "      <td>11</td>\n",
       "      <td>2021</td>\n",
       "      <td>8</td>\n",
       "      <td>50</td>\n",
       "      <td>0</td>\n",
       "    </tr>\n",
       "    <tr>\n",
       "      <th>18065</th>\n",
       "      <td>1534</td>\n",
       "      <td>Альберт</td>\n",
       "      <td>25</td>\n",
       "      <td>Краснодар</td>\n",
       "      <td>free</td>\n",
       "      <td>3826.185507</td>\n",
       "      <td>18.435051</td>\n",
       "      <td>2021-11-18</td>\n",
       "      <td>11</td>\n",
       "      <td>2021</td>\n",
       "      <td>8</td>\n",
       "      <td>50</td>\n",
       "      <td>0</td>\n",
       "    </tr>\n",
       "    <tr>\n",
       "      <th>18066</th>\n",
       "      <td>1534</td>\n",
       "      <td>Альберт</td>\n",
       "      <td>25</td>\n",
       "      <td>Краснодар</td>\n",
       "      <td>free</td>\n",
       "      <td>2902.308661</td>\n",
       "      <td>16.674362</td>\n",
       "      <td>2021-11-27</td>\n",
       "      <td>11</td>\n",
       "      <td>2021</td>\n",
       "      <td>8</td>\n",
       "      <td>50</td>\n",
       "      <td>0</td>\n",
       "    </tr>\n",
       "    <tr>\n",
       "      <th>18067</th>\n",
       "      <td>1534</td>\n",
       "      <td>Альберт</td>\n",
       "      <td>25</td>\n",
       "      <td>Краснодар</td>\n",
       "      <td>free</td>\n",
       "      <td>2371.711192</td>\n",
       "      <td>15.893917</td>\n",
       "      <td>2021-12-29</td>\n",
       "      <td>12</td>\n",
       "      <td>2021</td>\n",
       "      <td>8</td>\n",
       "      <td>50</td>\n",
       "      <td>0</td>\n",
       "    </tr>\n",
       "  </tbody>\n",
       "</table>\n",
       "<p>18068 rows × 13 columns</p>\n",
       "</div>"
      ],
      "text/plain": [
       "       user_id     name  age       city subscription_type     distance  \\\n",
       "0            1     Кира   22     Тюмень             ultra  4409.919140   \n",
       "1            1     Кира   22     Тюмень             ultra  2617.592153   \n",
       "2            1     Кира   22     Тюмень             ultra   754.159807   \n",
       "3            1     Кира   22     Тюмень             ultra  2694.783254   \n",
       "4            1     Кира   22     Тюмень             ultra  4028.687306   \n",
       "...        ...      ...  ...        ...               ...          ...   \n",
       "18063     1534  Альберт   25  Краснодар              free  3781.098080   \n",
       "18064     1534  Альберт   25  Краснодар              free  2840.423057   \n",
       "18065     1534  Альберт   25  Краснодар              free  3826.185507   \n",
       "18066     1534  Альберт   25  Краснодар              free  2902.308661   \n",
       "18067     1534  Альберт   25  Краснодар              free  2371.711192   \n",
       "\n",
       "        duration       date  month  year  minute_price  start_ride_price  \\\n",
       "0      25.599769 2021-01-01      1  2021             6                 0   \n",
       "1      15.816871 2021-01-18      1  2021             6                 0   \n",
       "2       6.232113 2021-04-20      4  2021             6                 0   \n",
       "3      18.511000 2021-08-11      8  2021             6                 0   \n",
       "4      26.265803 2021-08-28      8  2021             6                 0   \n",
       "...          ...        ...    ...   ...           ...               ...   \n",
       "18063  19.822962 2021-11-04     11  2021             8                50   \n",
       "18064  21.409799 2021-11-16     11  2021             8                50   \n",
       "18065  18.435051 2021-11-18     11  2021             8                50   \n",
       "18066  16.674362 2021-11-27     11  2021             8                50   \n",
       "18067  15.893917 2021-12-29     12  2021             8                50   \n",
       "\n",
       "       subscription_fee  \n",
       "0                   199  \n",
       "1                   199  \n",
       "2                   199  \n",
       "3                   199  \n",
       "4                   199  \n",
       "...                 ...  \n",
       "18063                 0  \n",
       "18064                 0  \n",
       "18065                 0  \n",
       "18066                 0  \n",
       "18067                 0  \n",
       "\n",
       "[18068 rows x 13 columns]"
      ]
     },
     "execution_count": 29,
     "metadata": {},
     "output_type": "execute_result"
    }
   ],
   "source": [
    "total_table = users.merge(rides, on='user_id', how='outer')\n",
    "total_table = total_table.merge(subscriptions, on='subscription_type', how='inner')\n",
    "total_table"
   ]
  },
  {
   "cell_type": "code",
   "execution_count": 30,
   "id": "da42575d",
   "metadata": {},
   "outputs": [
    {
     "data": {
      "text/plain": [
       "0"
      ]
     },
     "execution_count": 30,
     "metadata": {},
     "output_type": "execute_result"
    }
   ],
   "source": [
    "total_table.duplicated().sum()"
   ]
  },
  {
   "cell_type": "code",
   "execution_count": 31,
   "id": "ca1458cd",
   "metadata": {},
   "outputs": [
    {
     "data": {
      "text/plain": [
       "18068"
      ]
     },
     "execution_count": 31,
     "metadata": {},
     "output_type": "execute_result"
    }
   ],
   "source": [
    "total_table.shape[0]\n"
   ]
  },
  {
   "cell_type": "markdown",
   "id": "308cfc5e",
   "metadata": {},
   "source": [
    "Объединила сначла таблицы по номеру ID, а затем подтянула инфу о стоимости подписки в зависимости от ее наличия.\n",
    "Проверила, что дубликаты не появились. Размерность таблицы не поменялась (было 18068, и осталось тоже 18068), значит объединение прошло корректно, т.к. наиболее полная таблица это rides, в ней содержатся все данные о всех поездках."
   ]
  },
  {
   "cell_type": "markdown",
   "id": "70c0ca58",
   "metadata": {},
   "source": [
    "##### Таблицы по подпискам / без нее"
   ]
  },
  {
   "cell_type": "markdown",
   "id": "02f3ec87",
   "metadata": {},
   "source": [
    "###### Пользователи без подписки"
   ]
  },
  {
   "cell_type": "code",
   "execution_count": 32,
   "id": "e4d881a7",
   "metadata": {},
   "outputs": [
    {
     "data": {
      "text/html": [
       "<div>\n",
       "<style scoped>\n",
       "    .dataframe tbody tr th:only-of-type {\n",
       "        vertical-align: middle;\n",
       "    }\n",
       "\n",
       "    .dataframe tbody tr th {\n",
       "        vertical-align: top;\n",
       "    }\n",
       "\n",
       "    .dataframe thead th {\n",
       "        text-align: right;\n",
       "    }\n",
       "</style>\n",
       "<table border=\"1\" class=\"dataframe\">\n",
       "  <thead>\n",
       "    <tr style=\"text-align: right;\">\n",
       "      <th></th>\n",
       "      <th>user_id</th>\n",
       "      <th>name</th>\n",
       "      <th>age</th>\n",
       "      <th>city</th>\n",
       "      <th>subscription_type</th>\n",
       "      <th>distance</th>\n",
       "      <th>duration</th>\n",
       "      <th>date</th>\n",
       "      <th>month</th>\n",
       "      <th>year</th>\n",
       "      <th>minute_price</th>\n",
       "      <th>start_ride_price</th>\n",
       "      <th>subscription_fee</th>\n",
       "    </tr>\n",
       "  </thead>\n",
       "  <tbody>\n",
       "    <tr>\n",
       "      <th>0</th>\n",
       "      <td>700</td>\n",
       "      <td>Айдар</td>\n",
       "      <td>22</td>\n",
       "      <td>Омск</td>\n",
       "      <td>free</td>\n",
       "      <td>2515.690719</td>\n",
       "      <td>14.944286</td>\n",
       "      <td>2021-01-02</td>\n",
       "      <td>1</td>\n",
       "      <td>2021</td>\n",
       "      <td>8</td>\n",
       "      <td>50</td>\n",
       "      <td>0</td>\n",
       "    </tr>\n",
       "    <tr>\n",
       "      <th>1</th>\n",
       "      <td>700</td>\n",
       "      <td>Айдар</td>\n",
       "      <td>22</td>\n",
       "      <td>Омск</td>\n",
       "      <td>free</td>\n",
       "      <td>846.932642</td>\n",
       "      <td>16.234663</td>\n",
       "      <td>2021-02-01</td>\n",
       "      <td>2</td>\n",
       "      <td>2021</td>\n",
       "      <td>8</td>\n",
       "      <td>50</td>\n",
       "      <td>0</td>\n",
       "    </tr>\n",
       "    <tr>\n",
       "      <th>2</th>\n",
       "      <td>700</td>\n",
       "      <td>Айдар</td>\n",
       "      <td>22</td>\n",
       "      <td>Омск</td>\n",
       "      <td>free</td>\n",
       "      <td>4004.434142</td>\n",
       "      <td>20.016628</td>\n",
       "      <td>2021-02-04</td>\n",
       "      <td>2</td>\n",
       "      <td>2021</td>\n",
       "      <td>8</td>\n",
       "      <td>50</td>\n",
       "      <td>0</td>\n",
       "    </tr>\n",
       "    <tr>\n",
       "      <th>3</th>\n",
       "      <td>700</td>\n",
       "      <td>Айдар</td>\n",
       "      <td>22</td>\n",
       "      <td>Омск</td>\n",
       "      <td>free</td>\n",
       "      <td>1205.911290</td>\n",
       "      <td>9.782872</td>\n",
       "      <td>2021-02-10</td>\n",
       "      <td>2</td>\n",
       "      <td>2021</td>\n",
       "      <td>8</td>\n",
       "      <td>50</td>\n",
       "      <td>0</td>\n",
       "    </tr>\n",
       "    <tr>\n",
       "      <th>4</th>\n",
       "      <td>700</td>\n",
       "      <td>Айдар</td>\n",
       "      <td>22</td>\n",
       "      <td>Омск</td>\n",
       "      <td>free</td>\n",
       "      <td>3047.379435</td>\n",
       "      <td>17.427673</td>\n",
       "      <td>2021-02-14</td>\n",
       "      <td>2</td>\n",
       "      <td>2021</td>\n",
       "      <td>8</td>\n",
       "      <td>50</td>\n",
       "      <td>0</td>\n",
       "    </tr>\n",
       "    <tr>\n",
       "      <th>...</th>\n",
       "      <td>...</td>\n",
       "      <td>...</td>\n",
       "      <td>...</td>\n",
       "      <td>...</td>\n",
       "      <td>...</td>\n",
       "      <td>...</td>\n",
       "      <td>...</td>\n",
       "      <td>...</td>\n",
       "      <td>...</td>\n",
       "      <td>...</td>\n",
       "      <td>...</td>\n",
       "      <td>...</td>\n",
       "      <td>...</td>\n",
       "    </tr>\n",
       "    <tr>\n",
       "      <th>11563</th>\n",
       "      <td>1534</td>\n",
       "      <td>Альберт</td>\n",
       "      <td>25</td>\n",
       "      <td>Краснодар</td>\n",
       "      <td>free</td>\n",
       "      <td>3781.098080</td>\n",
       "      <td>19.822962</td>\n",
       "      <td>2021-11-04</td>\n",
       "      <td>11</td>\n",
       "      <td>2021</td>\n",
       "      <td>8</td>\n",
       "      <td>50</td>\n",
       "      <td>0</td>\n",
       "    </tr>\n",
       "    <tr>\n",
       "      <th>11564</th>\n",
       "      <td>1534</td>\n",
       "      <td>Альберт</td>\n",
       "      <td>25</td>\n",
       "      <td>Краснодар</td>\n",
       "      <td>free</td>\n",
       "      <td>2840.423057</td>\n",
       "      <td>21.409799</td>\n",
       "      <td>2021-11-16</td>\n",
       "      <td>11</td>\n",
       "      <td>2021</td>\n",
       "      <td>8</td>\n",
       "      <td>50</td>\n",
       "      <td>0</td>\n",
       "    </tr>\n",
       "    <tr>\n",
       "      <th>11565</th>\n",
       "      <td>1534</td>\n",
       "      <td>Альберт</td>\n",
       "      <td>25</td>\n",
       "      <td>Краснодар</td>\n",
       "      <td>free</td>\n",
       "      <td>3826.185507</td>\n",
       "      <td>18.435051</td>\n",
       "      <td>2021-11-18</td>\n",
       "      <td>11</td>\n",
       "      <td>2021</td>\n",
       "      <td>8</td>\n",
       "      <td>50</td>\n",
       "      <td>0</td>\n",
       "    </tr>\n",
       "    <tr>\n",
       "      <th>11566</th>\n",
       "      <td>1534</td>\n",
       "      <td>Альберт</td>\n",
       "      <td>25</td>\n",
       "      <td>Краснодар</td>\n",
       "      <td>free</td>\n",
       "      <td>2902.308661</td>\n",
       "      <td>16.674362</td>\n",
       "      <td>2021-11-27</td>\n",
       "      <td>11</td>\n",
       "      <td>2021</td>\n",
       "      <td>8</td>\n",
       "      <td>50</td>\n",
       "      <td>0</td>\n",
       "    </tr>\n",
       "    <tr>\n",
       "      <th>11567</th>\n",
       "      <td>1534</td>\n",
       "      <td>Альберт</td>\n",
       "      <td>25</td>\n",
       "      <td>Краснодар</td>\n",
       "      <td>free</td>\n",
       "      <td>2371.711192</td>\n",
       "      <td>15.893917</td>\n",
       "      <td>2021-12-29</td>\n",
       "      <td>12</td>\n",
       "      <td>2021</td>\n",
       "      <td>8</td>\n",
       "      <td>50</td>\n",
       "      <td>0</td>\n",
       "    </tr>\n",
       "  </tbody>\n",
       "</table>\n",
       "<p>11568 rows × 13 columns</p>\n",
       "</div>"
      ],
      "text/plain": [
       "       user_id     name  age       city subscription_type     distance  \\\n",
       "0          700    Айдар   22       Омск              free  2515.690719   \n",
       "1          700    Айдар   22       Омск              free   846.932642   \n",
       "2          700    Айдар   22       Омск              free  4004.434142   \n",
       "3          700    Айдар   22       Омск              free  1205.911290   \n",
       "4          700    Айдар   22       Омск              free  3047.379435   \n",
       "...        ...      ...  ...        ...               ...          ...   \n",
       "11563     1534  Альберт   25  Краснодар              free  3781.098080   \n",
       "11564     1534  Альберт   25  Краснодар              free  2840.423057   \n",
       "11565     1534  Альберт   25  Краснодар              free  3826.185507   \n",
       "11566     1534  Альберт   25  Краснодар              free  2902.308661   \n",
       "11567     1534  Альберт   25  Краснодар              free  2371.711192   \n",
       "\n",
       "        duration       date  month  year  minute_price  start_ride_price  \\\n",
       "0      14.944286 2021-01-02      1  2021             8                50   \n",
       "1      16.234663 2021-02-01      2  2021             8                50   \n",
       "2      20.016628 2021-02-04      2  2021             8                50   \n",
       "3       9.782872 2021-02-10      2  2021             8                50   \n",
       "4      17.427673 2021-02-14      2  2021             8                50   \n",
       "...          ...        ...    ...   ...           ...               ...   \n",
       "11563  19.822962 2021-11-04     11  2021             8                50   \n",
       "11564  21.409799 2021-11-16     11  2021             8                50   \n",
       "11565  18.435051 2021-11-18     11  2021             8                50   \n",
       "11566  16.674362 2021-11-27     11  2021             8                50   \n",
       "11567  15.893917 2021-12-29     12  2021             8                50   \n",
       "\n",
       "       subscription_fee  \n",
       "0                     0  \n",
       "1                     0  \n",
       "2                     0  \n",
       "3                     0  \n",
       "4                     0  \n",
       "...                 ...  \n",
       "11563                 0  \n",
       "11564                 0  \n",
       "11565                 0  \n",
       "11566                 0  \n",
       "11567                 0  \n",
       "\n",
       "[11568 rows x 13 columns]"
      ]
     },
     "execution_count": 32,
     "metadata": {},
     "output_type": "execute_result"
    }
   ],
   "source": [
    "free = total_table.query('subscription_type == \"free\"')\n",
    "free = free.reset_index(drop=True)\n",
    "free"
   ]
  },
  {
   "cell_type": "markdown",
   "id": "e730a65b",
   "metadata": {},
   "source": [
    "###### Пользователи с подпиской"
   ]
  },
  {
   "cell_type": "code",
   "execution_count": 33,
   "id": "bf2da5ee",
   "metadata": {},
   "outputs": [
    {
     "data": {
      "text/html": [
       "<div>\n",
       "<style scoped>\n",
       "    .dataframe tbody tr th:only-of-type {\n",
       "        vertical-align: middle;\n",
       "    }\n",
       "\n",
       "    .dataframe tbody tr th {\n",
       "        vertical-align: top;\n",
       "    }\n",
       "\n",
       "    .dataframe thead th {\n",
       "        text-align: right;\n",
       "    }\n",
       "</style>\n",
       "<table border=\"1\" class=\"dataframe\">\n",
       "  <thead>\n",
       "    <tr style=\"text-align: right;\">\n",
       "      <th></th>\n",
       "      <th>user_id</th>\n",
       "      <th>name</th>\n",
       "      <th>age</th>\n",
       "      <th>city</th>\n",
       "      <th>subscription_type</th>\n",
       "      <th>distance</th>\n",
       "      <th>duration</th>\n",
       "      <th>date</th>\n",
       "      <th>month</th>\n",
       "      <th>year</th>\n",
       "      <th>minute_price</th>\n",
       "      <th>start_ride_price</th>\n",
       "      <th>subscription_fee</th>\n",
       "    </tr>\n",
       "  </thead>\n",
       "  <tbody>\n",
       "    <tr>\n",
       "      <th>0</th>\n",
       "      <td>1</td>\n",
       "      <td>Кира</td>\n",
       "      <td>22</td>\n",
       "      <td>Тюмень</td>\n",
       "      <td>ultra</td>\n",
       "      <td>4409.919140</td>\n",
       "      <td>25.599769</td>\n",
       "      <td>2021-01-01</td>\n",
       "      <td>1</td>\n",
       "      <td>2021</td>\n",
       "      <td>6</td>\n",
       "      <td>0</td>\n",
       "      <td>199</td>\n",
       "    </tr>\n",
       "    <tr>\n",
       "      <th>1</th>\n",
       "      <td>1</td>\n",
       "      <td>Кира</td>\n",
       "      <td>22</td>\n",
       "      <td>Тюмень</td>\n",
       "      <td>ultra</td>\n",
       "      <td>2617.592153</td>\n",
       "      <td>15.816871</td>\n",
       "      <td>2021-01-18</td>\n",
       "      <td>1</td>\n",
       "      <td>2021</td>\n",
       "      <td>6</td>\n",
       "      <td>0</td>\n",
       "      <td>199</td>\n",
       "    </tr>\n",
       "    <tr>\n",
       "      <th>2</th>\n",
       "      <td>1</td>\n",
       "      <td>Кира</td>\n",
       "      <td>22</td>\n",
       "      <td>Тюмень</td>\n",
       "      <td>ultra</td>\n",
       "      <td>754.159807</td>\n",
       "      <td>6.232113</td>\n",
       "      <td>2021-04-20</td>\n",
       "      <td>4</td>\n",
       "      <td>2021</td>\n",
       "      <td>6</td>\n",
       "      <td>0</td>\n",
       "      <td>199</td>\n",
       "    </tr>\n",
       "    <tr>\n",
       "      <th>3</th>\n",
       "      <td>1</td>\n",
       "      <td>Кира</td>\n",
       "      <td>22</td>\n",
       "      <td>Тюмень</td>\n",
       "      <td>ultra</td>\n",
       "      <td>2694.783254</td>\n",
       "      <td>18.511000</td>\n",
       "      <td>2021-08-11</td>\n",
       "      <td>8</td>\n",
       "      <td>2021</td>\n",
       "      <td>6</td>\n",
       "      <td>0</td>\n",
       "      <td>199</td>\n",
       "    </tr>\n",
       "    <tr>\n",
       "      <th>4</th>\n",
       "      <td>1</td>\n",
       "      <td>Кира</td>\n",
       "      <td>22</td>\n",
       "      <td>Тюмень</td>\n",
       "      <td>ultra</td>\n",
       "      <td>4028.687306</td>\n",
       "      <td>26.265803</td>\n",
       "      <td>2021-08-28</td>\n",
       "      <td>8</td>\n",
       "      <td>2021</td>\n",
       "      <td>6</td>\n",
       "      <td>0</td>\n",
       "      <td>199</td>\n",
       "    </tr>\n",
       "    <tr>\n",
       "      <th>...</th>\n",
       "      <td>...</td>\n",
       "      <td>...</td>\n",
       "      <td>...</td>\n",
       "      <td>...</td>\n",
       "      <td>...</td>\n",
       "      <td>...</td>\n",
       "      <td>...</td>\n",
       "      <td>...</td>\n",
       "      <td>...</td>\n",
       "      <td>...</td>\n",
       "      <td>...</td>\n",
       "      <td>...</td>\n",
       "      <td>...</td>\n",
       "    </tr>\n",
       "    <tr>\n",
       "      <th>6495</th>\n",
       "      <td>699</td>\n",
       "      <td>Оксана</td>\n",
       "      <td>22</td>\n",
       "      <td>Москва</td>\n",
       "      <td>ultra</td>\n",
       "      <td>3973.046497</td>\n",
       "      <td>24.671163</td>\n",
       "      <td>2021-08-29</td>\n",
       "      <td>8</td>\n",
       "      <td>2021</td>\n",
       "      <td>6</td>\n",
       "      <td>0</td>\n",
       "      <td>199</td>\n",
       "    </tr>\n",
       "    <tr>\n",
       "      <th>6496</th>\n",
       "      <td>699</td>\n",
       "      <td>Оксана</td>\n",
       "      <td>22</td>\n",
       "      <td>Москва</td>\n",
       "      <td>ultra</td>\n",
       "      <td>3288.702563</td>\n",
       "      <td>15.892886</td>\n",
       "      <td>2021-09-12</td>\n",
       "      <td>9</td>\n",
       "      <td>2021</td>\n",
       "      <td>6</td>\n",
       "      <td>0</td>\n",
       "      <td>199</td>\n",
       "    </tr>\n",
       "    <tr>\n",
       "      <th>6497</th>\n",
       "      <td>699</td>\n",
       "      <td>Оксана</td>\n",
       "      <td>22</td>\n",
       "      <td>Москва</td>\n",
       "      <td>ultra</td>\n",
       "      <td>3076.159348</td>\n",
       "      <td>14.389525</td>\n",
       "      <td>2021-09-26</td>\n",
       "      <td>9</td>\n",
       "      <td>2021</td>\n",
       "      <td>6</td>\n",
       "      <td>0</td>\n",
       "      <td>199</td>\n",
       "    </tr>\n",
       "    <tr>\n",
       "      <th>6498</th>\n",
       "      <td>699</td>\n",
       "      <td>Оксана</td>\n",
       "      <td>22</td>\n",
       "      <td>Москва</td>\n",
       "      <td>ultra</td>\n",
       "      <td>4707.845501</td>\n",
       "      <td>15.839579</td>\n",
       "      <td>2021-10-17</td>\n",
       "      <td>10</td>\n",
       "      <td>2021</td>\n",
       "      <td>6</td>\n",
       "      <td>0</td>\n",
       "      <td>199</td>\n",
       "    </tr>\n",
       "    <tr>\n",
       "      <th>6499</th>\n",
       "      <td>699</td>\n",
       "      <td>Оксана</td>\n",
       "      <td>22</td>\n",
       "      <td>Москва</td>\n",
       "      <td>ultra</td>\n",
       "      <td>3202.890770</td>\n",
       "      <td>25.217345</td>\n",
       "      <td>2021-12-03</td>\n",
       "      <td>12</td>\n",
       "      <td>2021</td>\n",
       "      <td>6</td>\n",
       "      <td>0</td>\n",
       "      <td>199</td>\n",
       "    </tr>\n",
       "  </tbody>\n",
       "</table>\n",
       "<p>6500 rows × 13 columns</p>\n",
       "</div>"
      ],
      "text/plain": [
       "      user_id    name  age    city subscription_type     distance   duration  \\\n",
       "0           1    Кира   22  Тюмень             ultra  4409.919140  25.599769   \n",
       "1           1    Кира   22  Тюмень             ultra  2617.592153  15.816871   \n",
       "2           1    Кира   22  Тюмень             ultra   754.159807   6.232113   \n",
       "3           1    Кира   22  Тюмень             ultra  2694.783254  18.511000   \n",
       "4           1    Кира   22  Тюмень             ultra  4028.687306  26.265803   \n",
       "...       ...     ...  ...     ...               ...          ...        ...   \n",
       "6495      699  Оксана   22  Москва             ultra  3973.046497  24.671163   \n",
       "6496      699  Оксана   22  Москва             ultra  3288.702563  15.892886   \n",
       "6497      699  Оксана   22  Москва             ultra  3076.159348  14.389525   \n",
       "6498      699  Оксана   22  Москва             ultra  4707.845501  15.839579   \n",
       "6499      699  Оксана   22  Москва             ultra  3202.890770  25.217345   \n",
       "\n",
       "           date  month  year  minute_price  start_ride_price  subscription_fee  \n",
       "0    2021-01-01      1  2021             6                 0               199  \n",
       "1    2021-01-18      1  2021             6                 0               199  \n",
       "2    2021-04-20      4  2021             6                 0               199  \n",
       "3    2021-08-11      8  2021             6                 0               199  \n",
       "4    2021-08-28      8  2021             6                 0               199  \n",
       "...         ...    ...   ...           ...               ...               ...  \n",
       "6495 2021-08-29      8  2021             6                 0               199  \n",
       "6496 2021-09-12      9  2021             6                 0               199  \n",
       "6497 2021-09-26      9  2021             6                 0               199  \n",
       "6498 2021-10-17     10  2021             6                 0               199  \n",
       "6499 2021-12-03     12  2021             6                 0               199  \n",
       "\n",
       "[6500 rows x 13 columns]"
      ]
     },
     "execution_count": 33,
     "metadata": {},
     "output_type": "execute_result"
    }
   ],
   "source": [
    "ultra = total_table.query('subscription_type == \"ultra\"')\n",
    "ultra = ultra.reset_index(drop=True)\n",
    "ultra"
   ]
  },
  {
   "cell_type": "markdown",
   "id": "012feff2",
   "metadata": {},
   "source": [
    "##### Визуализация информации о расстоянии и времени поездок для пользователей обеих категорий"
   ]
  },
  {
   "cell_type": "markdown",
   "id": "bce87c22",
   "metadata": {},
   "source": [
    "###### Без подписки"
   ]
  },
  {
   "cell_type": "code",
   "execution_count": 34,
   "id": "8a46a416",
   "metadata": {},
   "outputs": [
    {
     "data": {
      "image/png": "[encoded data removed]",
      "text/plain": [
       "<Figure size 720x360 with 1 Axes>"
      ]
     },
     "metadata": {
      "needs_background": "light"
     },
     "output_type": "display_data"
    },
    {
     "data": {
      "image/png": "[encoded data removed]",
      "text/plain": [
       "<Figure size 720x360 with 1 Axes>"
      ]
     },
     "metadata": {
      "needs_background": "light"
     },
     "output_type": "display_data"
    }
   ],
   "source": [
    "free['duration'].hist(grid=True, figsize=(10,5), bins=50)\n",
    "plt.title('Продолжительность каждой поездки')\n",
    "plt.xlabel('Время, мин')  \n",
    "plt.ylabel('Частота')\n",
    "plt.show()\n",
    "\n",
    "free['distance'].hist(grid=True, figsize=(10,5), bins=100)\n",
    "plt.title('Раcстояние каждой поездки')\n",
    "plt.xlabel('Расстояние, м')  \n",
    "plt.ylabel('Частота')\n",
    "plt.show()\n"
   ]
  },
  {
   "cell_type": "markdown",
   "id": "0b3f932c",
   "metadata": {},
   "source": [
    "###### С подпиской"
   ]
  },
  {
   "cell_type": "code",
   "execution_count": 35,
   "id": "8c1a982a",
   "metadata": {},
   "outputs": [
    {
     "data": {
      "image/png": "[encoded data removed]",
      "text/plain": [
       "<Figure size 720x360 with 1 Axes>"
      ]
     },
     "metadata": {
      "needs_background": "light"
     },
     "output_type": "display_data"
    },
    {
     "data": {
      "image/png": "[encoded data removed]",
      "text/plain": [
       "<Figure size 720x360 with 1 Axes>"
      ]
     },
     "metadata": {
      "needs_background": "light"
     },
     "output_type": "display_data"
    }
   ],
   "source": [
    "ultra['duration'].hist(grid=True, figsize=(10,5), bins=50)\n",
    "plt.title('Продолжительность каждой поездки')\n",
    "plt.xlabel('Время, мин')  \n",
    "plt.ylabel('Частота')\n",
    "plt.show()\n",
    "\n",
    "ultra['distance'].hist(grid=True, figsize=(10,5), bins=100)\n",
    "plt.title('Раcстояние каждой поездки')\n",
    "plt.xlabel('Расстояние, м')  \n",
    "plt.ylabel('Частота')\n",
    "plt.show()"
   ]
  },
  {
   "cell_type": "markdown",
   "id": "eb96f48b",
   "metadata": {},
   "source": [
    "Графики выше показывают, что независимо от наличия подписки, наиболее популярная продолжительность поездки составляет от 15 до 20 мин\n",
    "При этом, пользователи с подпиской реже ездят на дальние расстояние (более 5000м, чем пользователи без подписки).\n",
    "И, если пользователи без подписки чаще всего ездят на расстояние от 2000 до 4000м, то пользователи с подпиской предпочитают больше расстояние в среднем около 3000 м."
   ]
  },
  {
   "cell_type": "markdown",
   "id": "402d620f",
   "metadata": {},
   "source": [
    "#### Шаг 5. Подсчёт выручки"
   ]
  },
  {
   "cell_type": "markdown",
   "id": "1ded9882",
   "metadata": {},
   "source": [
    "##### Суммарная информация о поездках пользователей"
   ]
  },
  {
   "cell_type": "code",
   "execution_count": 36,
   "id": "8da5fefc",
   "metadata": {},
   "outputs": [
    {
     "data": {
      "text/plain": [
       "array([2021])"
      ]
     },
     "execution_count": 36,
     "metadata": {},
     "output_type": "execute_result"
    }
   ],
   "source": [
    "total_table['year'] = rides['date'].dt.year\n",
    "total_table['year'].unique()\n",
    "\n",
    "#отлично, у нас данные только за 2021 год, значит, разбивка на месяцы будет корректной"
   ]
  },
  {
   "cell_type": "code",
   "execution_count": 37,
   "id": "3963acfd",
   "metadata": {},
   "outputs": [
    {
     "data": {
      "text/plain": [
       "Index(['user_id', 'name', 'age', 'city', 'subscription_type', 'distance',\n",
       "       'duration', 'date', 'month', 'year', 'minute_price', 'start_ride_price',\n",
       "       'subscription_fee'],\n",
       "      dtype='object')"
      ]
     },
     "execution_count": 37,
     "metadata": {},
     "output_type": "execute_result"
    }
   ],
   "source": [
    "total_table.columns"
   ]
  },
  {
   "cell_type": "code",
   "execution_count": 38,
   "id": "9baa323d",
   "metadata": {},
   "outputs": [],
   "source": [
    "total_table['duration'] = np.ceil(total_table['duration'])"
   ]
  },
  {
   "cell_type": "code",
   "execution_count": 39,
   "id": "94e2f522",
   "metadata": {},
   "outputs": [
    {
     "data": {
      "text/html": [
       "<div>\n",
       "<style scoped>\n",
       "    .dataframe tbody tr th:only-of-type {\n",
       "        vertical-align: middle;\n",
       "    }\n",
       "\n",
       "    .dataframe tbody tr th {\n",
       "        vertical-align: top;\n",
       "    }\n",
       "\n",
       "    .dataframe thead tr th {\n",
       "        text-align: left;\n",
       "    }\n",
       "</style>\n",
       "<table border=\"1\" class=\"dataframe\">\n",
       "  <thead>\n",
       "    <tr>\n",
       "      <th></th>\n",
       "      <th>user_id</th>\n",
       "      <th>month</th>\n",
       "      <th>distance</th>\n",
       "      <th colspan=\"2\" halign=\"left\">duration</th>\n",
       "    </tr>\n",
       "    <tr>\n",
       "      <th></th>\n",
       "      <th></th>\n",
       "      <th></th>\n",
       "      <th>sum</th>\n",
       "      <th>count</th>\n",
       "      <th>sum</th>\n",
       "    </tr>\n",
       "  </thead>\n",
       "  <tbody>\n",
       "    <tr>\n",
       "      <th>0</th>\n",
       "      <td>1</td>\n",
       "      <td>1</td>\n",
       "      <td>7027.511294</td>\n",
       "      <td>2</td>\n",
       "      <td>42.0</td>\n",
       "    </tr>\n",
       "    <tr>\n",
       "      <th>1</th>\n",
       "      <td>1</td>\n",
       "      <td>4</td>\n",
       "      <td>754.159807</td>\n",
       "      <td>1</td>\n",
       "      <td>7.0</td>\n",
       "    </tr>\n",
       "    <tr>\n",
       "      <th>2</th>\n",
       "      <td>1</td>\n",
       "      <td>8</td>\n",
       "      <td>6723.470560</td>\n",
       "      <td>2</td>\n",
       "      <td>46.0</td>\n",
       "    </tr>\n",
       "    <tr>\n",
       "      <th>3</th>\n",
       "      <td>1</td>\n",
       "      <td>10</td>\n",
       "      <td>5809.911100</td>\n",
       "      <td>2</td>\n",
       "      <td>32.0</td>\n",
       "    </tr>\n",
       "    <tr>\n",
       "      <th>4</th>\n",
       "      <td>1</td>\n",
       "      <td>11</td>\n",
       "      <td>7003.499363</td>\n",
       "      <td>3</td>\n",
       "      <td>56.0</td>\n",
       "    </tr>\n",
       "    <tr>\n",
       "      <th>...</th>\n",
       "      <td>...</td>\n",
       "      <td>...</td>\n",
       "      <td>...</td>\n",
       "      <td>...</td>\n",
       "      <td>...</td>\n",
       "    </tr>\n",
       "    <tr>\n",
       "      <th>11326</th>\n",
       "      <td>1534</td>\n",
       "      <td>6</td>\n",
       "      <td>3409.468534</td>\n",
       "      <td>2</td>\n",
       "      <td>26.0</td>\n",
       "    </tr>\n",
       "    <tr>\n",
       "      <th>11327</th>\n",
       "      <td>1534</td>\n",
       "      <td>8</td>\n",
       "      <td>7622.453034</td>\n",
       "      <td>2</td>\n",
       "      <td>48.0</td>\n",
       "    </tr>\n",
       "    <tr>\n",
       "      <th>11328</th>\n",
       "      <td>1534</td>\n",
       "      <td>9</td>\n",
       "      <td>4928.173852</td>\n",
       "      <td>1</td>\n",
       "      <td>23.0</td>\n",
       "    </tr>\n",
       "    <tr>\n",
       "      <th>11329</th>\n",
       "      <td>1534</td>\n",
       "      <td>11</td>\n",
       "      <td>13350.015305</td>\n",
       "      <td>4</td>\n",
       "      <td>78.0</td>\n",
       "    </tr>\n",
       "    <tr>\n",
       "      <th>11330</th>\n",
       "      <td>1534</td>\n",
       "      <td>12</td>\n",
       "      <td>2371.711192</td>\n",
       "      <td>1</td>\n",
       "      <td>16.0</td>\n",
       "    </tr>\n",
       "  </tbody>\n",
       "</table>\n",
       "<p>11331 rows × 5 columns</p>\n",
       "</div>"
      ],
      "text/plain": [
       "      user_id month      distance duration      \n",
       "                              sum    count   sum\n",
       "0           1     1   7027.511294        2  42.0\n",
       "1           1     4    754.159807        1   7.0\n",
       "2           1     8   6723.470560        2  46.0\n",
       "3           1    10   5809.911100        2  32.0\n",
       "4           1    11   7003.499363        3  56.0\n",
       "...       ...   ...           ...      ...   ...\n",
       "11326    1534     6   3409.468534        2  26.0\n",
       "11327    1534     8   7622.453034        2  48.0\n",
       "11328    1534     9   4928.173852        1  23.0\n",
       "11329    1534    11  13350.015305        4  78.0\n",
       "11330    1534    12   2371.711192        1  16.0\n",
       "\n",
       "[11331 rows x 5 columns]"
      ]
     },
     "execution_count": 39,
     "metadata": {},
     "output_type": "execute_result"
    }
   ],
   "source": [
    "total_table_pivot = total_table.pivot_table(index=['user_id', 'month'], \n",
    "                                      values = ['distance', 'duration'],\n",
    "                                      aggfunc = {'distance' : 'sum', 'duration': ['sum', 'count']}).reset_index()          \n",
    "total_table_pivot                                                                         "
   ]
  },
  {
   "cell_type": "code",
   "execution_count": 40,
   "id": "c747de68",
   "metadata": {},
   "outputs": [
    {
     "data": {
      "text/html": [
       "<div>\n",
       "<style scoped>\n",
       "    .dataframe tbody tr th:only-of-type {\n",
       "        vertical-align: middle;\n",
       "    }\n",
       "\n",
       "    .dataframe tbody tr th {\n",
       "        vertical-align: top;\n",
       "    }\n",
       "\n",
       "    .dataframe thead th {\n",
       "        text-align: right;\n",
       "    }\n",
       "</style>\n",
       "<table border=\"1\" class=\"dataframe\">\n",
       "  <thead>\n",
       "    <tr style=\"text-align: right;\">\n",
       "      <th></th>\n",
       "      <th>user_id</th>\n",
       "      <th>month</th>\n",
       "      <th>total distance</th>\n",
       "      <th>total quantity</th>\n",
       "      <th>total duration</th>\n",
       "    </tr>\n",
       "  </thead>\n",
       "  <tbody>\n",
       "    <tr>\n",
       "      <th>0</th>\n",
       "      <td>1</td>\n",
       "      <td>1</td>\n",
       "      <td>7027.511294</td>\n",
       "      <td>2</td>\n",
       "      <td>42.0</td>\n",
       "    </tr>\n",
       "    <tr>\n",
       "      <th>1</th>\n",
       "      <td>1</td>\n",
       "      <td>4</td>\n",
       "      <td>754.159807</td>\n",
       "      <td>1</td>\n",
       "      <td>7.0</td>\n",
       "    </tr>\n",
       "    <tr>\n",
       "      <th>2</th>\n",
       "      <td>1</td>\n",
       "      <td>8</td>\n",
       "      <td>6723.470560</td>\n",
       "      <td>2</td>\n",
       "      <td>46.0</td>\n",
       "    </tr>\n",
       "    <tr>\n",
       "      <th>3</th>\n",
       "      <td>1</td>\n",
       "      <td>10</td>\n",
       "      <td>5809.911100</td>\n",
       "      <td>2</td>\n",
       "      <td>32.0</td>\n",
       "    </tr>\n",
       "    <tr>\n",
       "      <th>4</th>\n",
       "      <td>1</td>\n",
       "      <td>11</td>\n",
       "      <td>7003.499363</td>\n",
       "      <td>3</td>\n",
       "      <td>56.0</td>\n",
       "    </tr>\n",
       "    <tr>\n",
       "      <th>...</th>\n",
       "      <td>...</td>\n",
       "      <td>...</td>\n",
       "      <td>...</td>\n",
       "      <td>...</td>\n",
       "      <td>...</td>\n",
       "    </tr>\n",
       "    <tr>\n",
       "      <th>11326</th>\n",
       "      <td>1534</td>\n",
       "      <td>6</td>\n",
       "      <td>3409.468534</td>\n",
       "      <td>2</td>\n",
       "      <td>26.0</td>\n",
       "    </tr>\n",
       "    <tr>\n",
       "      <th>11327</th>\n",
       "      <td>1534</td>\n",
       "      <td>8</td>\n",
       "      <td>7622.453034</td>\n",
       "      <td>2</td>\n",
       "      <td>48.0</td>\n",
       "    </tr>\n",
       "    <tr>\n",
       "      <th>11328</th>\n",
       "      <td>1534</td>\n",
       "      <td>9</td>\n",
       "      <td>4928.173852</td>\n",
       "      <td>1</td>\n",
       "      <td>23.0</td>\n",
       "    </tr>\n",
       "    <tr>\n",
       "      <th>11329</th>\n",
       "      <td>1534</td>\n",
       "      <td>11</td>\n",
       "      <td>13350.015305</td>\n",
       "      <td>4</td>\n",
       "      <td>78.0</td>\n",
       "    </tr>\n",
       "    <tr>\n",
       "      <th>11330</th>\n",
       "      <td>1534</td>\n",
       "      <td>12</td>\n",
       "      <td>2371.711192</td>\n",
       "      <td>1</td>\n",
       "      <td>16.0</td>\n",
       "    </tr>\n",
       "  </tbody>\n",
       "</table>\n",
       "<p>11331 rows × 5 columns</p>\n",
       "</div>"
      ],
      "text/plain": [
       "       user_id  month  total distance  total quantity  total duration\n",
       "0            1      1     7027.511294               2            42.0\n",
       "1            1      4      754.159807               1             7.0\n",
       "2            1      8     6723.470560               2            46.0\n",
       "3            1     10     5809.911100               2            32.0\n",
       "4            1     11     7003.499363               3            56.0\n",
       "...        ...    ...             ...             ...             ...\n",
       "11326     1534      6     3409.468534               2            26.0\n",
       "11327     1534      8     7622.453034               2            48.0\n",
       "11328     1534      9     4928.173852               1            23.0\n",
       "11329     1534     11    13350.015305               4            78.0\n",
       "11330     1534     12     2371.711192               1            16.0\n",
       "\n",
       "[11331 rows x 5 columns]"
      ]
     },
     "execution_count": 40,
     "metadata": {},
     "output_type": "execute_result"
    }
   ],
   "source": [
    "#переименую колонки\n",
    "total_table_pivot.columns = ['user_id', 'month', 'total distance', 'total quantity', 'total duration']\n",
    "total_table_pivot    "
   ]
  },
  {
   "cell_type": "code",
   "execution_count": 41,
   "id": "9be85711",
   "metadata": {},
   "outputs": [
    {
     "data": {
      "text/plain": [
       "Index(['user_id', 'name', 'age', 'city', 'subscription_type', 'distance',\n",
       "       'duration', 'date', 'month', 'year', 'minute_price', 'start_ride_price',\n",
       "       'subscription_fee'],\n",
       "      dtype='object')"
      ]
     },
     "execution_count": 41,
     "metadata": {},
     "output_type": "execute_result"
    }
   ],
   "source": [
    "total_table.columns"
   ]
  },
  {
   "cell_type": "code",
   "execution_count": 42,
   "id": "cae39948",
   "metadata": {},
   "outputs": [],
   "source": [
    "#создам таблицу из сводной с инфой о подписках, чтобы соединить с таблицей выше\n",
    "tab=total_table[['user_id', 'subscription_type','minute_price', 'start_ride_price',\n",
    "       'subscription_fee']]"
   ]
  },
  {
   "cell_type": "code",
   "execution_count": 43,
   "id": "83dfca6f",
   "metadata": {},
   "outputs": [
    {
     "data": {
      "text/html": [
       "<div>\n",
       "<style scoped>\n",
       "    .dataframe tbody tr th:only-of-type {\n",
       "        vertical-align: middle;\n",
       "    }\n",
       "\n",
       "    .dataframe tbody tr th {\n",
       "        vertical-align: top;\n",
       "    }\n",
       "\n",
       "    .dataframe thead th {\n",
       "        text-align: right;\n",
       "    }\n",
       "</style>\n",
       "<table border=\"1\" class=\"dataframe\">\n",
       "  <thead>\n",
       "    <tr style=\"text-align: right;\">\n",
       "      <th></th>\n",
       "      <th>user_id</th>\n",
       "      <th>month</th>\n",
       "      <th>total distance</th>\n",
       "      <th>total quantity</th>\n",
       "      <th>total duration</th>\n",
       "      <th>subscription_type</th>\n",
       "      <th>minute_price</th>\n",
       "      <th>start_ride_price</th>\n",
       "      <th>subscription_fee</th>\n",
       "    </tr>\n",
       "  </thead>\n",
       "  <tbody>\n",
       "    <tr>\n",
       "      <th>0</th>\n",
       "      <td>1</td>\n",
       "      <td>1</td>\n",
       "      <td>7027.511294</td>\n",
       "      <td>2</td>\n",
       "      <td>42.0</td>\n",
       "      <td>ultra</td>\n",
       "      <td>6</td>\n",
       "      <td>0</td>\n",
       "      <td>199</td>\n",
       "    </tr>\n",
       "    <tr>\n",
       "      <th>12</th>\n",
       "      <td>1</td>\n",
       "      <td>4</td>\n",
       "      <td>754.159807</td>\n",
       "      <td>1</td>\n",
       "      <td>7.0</td>\n",
       "      <td>ultra</td>\n",
       "      <td>6</td>\n",
       "      <td>0</td>\n",
       "      <td>199</td>\n",
       "    </tr>\n",
       "    <tr>\n",
       "      <th>24</th>\n",
       "      <td>1</td>\n",
       "      <td>8</td>\n",
       "      <td>6723.470560</td>\n",
       "      <td>2</td>\n",
       "      <td>46.0</td>\n",
       "      <td>ultra</td>\n",
       "      <td>6</td>\n",
       "      <td>0</td>\n",
       "      <td>199</td>\n",
       "    </tr>\n",
       "    <tr>\n",
       "      <th>36</th>\n",
       "      <td>1</td>\n",
       "      <td>10</td>\n",
       "      <td>5809.911100</td>\n",
       "      <td>2</td>\n",
       "      <td>32.0</td>\n",
       "      <td>ultra</td>\n",
       "      <td>6</td>\n",
       "      <td>0</td>\n",
       "      <td>199</td>\n",
       "    </tr>\n",
       "    <tr>\n",
       "      <th>48</th>\n",
       "      <td>1</td>\n",
       "      <td>11</td>\n",
       "      <td>7003.499363</td>\n",
       "      <td>3</td>\n",
       "      <td>56.0</td>\n",
       "      <td>ultra</td>\n",
       "      <td>6</td>\n",
       "      <td>0</td>\n",
       "      <td>199</td>\n",
       "    </tr>\n",
       "    <tr>\n",
       "      <th>...</th>\n",
       "      <td>...</td>\n",
       "      <td>...</td>\n",
       "      <td>...</td>\n",
       "      <td>...</td>\n",
       "      <td>...</td>\n",
       "      <td>...</td>\n",
       "      <td>...</td>\n",
       "      <td>...</td>\n",
       "      <td>...</td>\n",
       "    </tr>\n",
       "    <tr>\n",
       "      <th>143446</th>\n",
       "      <td>1534</td>\n",
       "      <td>6</td>\n",
       "      <td>3409.468534</td>\n",
       "      <td>2</td>\n",
       "      <td>26.0</td>\n",
       "      <td>free</td>\n",
       "      <td>8</td>\n",
       "      <td>50</td>\n",
       "      <td>0</td>\n",
       "    </tr>\n",
       "    <tr>\n",
       "      <th>143459</th>\n",
       "      <td>1534</td>\n",
       "      <td>8</td>\n",
       "      <td>7622.453034</td>\n",
       "      <td>2</td>\n",
       "      <td>48.0</td>\n",
       "      <td>free</td>\n",
       "      <td>8</td>\n",
       "      <td>50</td>\n",
       "      <td>0</td>\n",
       "    </tr>\n",
       "    <tr>\n",
       "      <th>143472</th>\n",
       "      <td>1534</td>\n",
       "      <td>9</td>\n",
       "      <td>4928.173852</td>\n",
       "      <td>1</td>\n",
       "      <td>23.0</td>\n",
       "      <td>free</td>\n",
       "      <td>8</td>\n",
       "      <td>50</td>\n",
       "      <td>0</td>\n",
       "    </tr>\n",
       "    <tr>\n",
       "      <th>143485</th>\n",
       "      <td>1534</td>\n",
       "      <td>11</td>\n",
       "      <td>13350.015305</td>\n",
       "      <td>4</td>\n",
       "      <td>78.0</td>\n",
       "      <td>free</td>\n",
       "      <td>8</td>\n",
       "      <td>50</td>\n",
       "      <td>0</td>\n",
       "    </tr>\n",
       "    <tr>\n",
       "      <th>143498</th>\n",
       "      <td>1534</td>\n",
       "      <td>12</td>\n",
       "      <td>2371.711192</td>\n",
       "      <td>1</td>\n",
       "      <td>16.0</td>\n",
       "      <td>free</td>\n",
       "      <td>8</td>\n",
       "      <td>50</td>\n",
       "      <td>0</td>\n",
       "    </tr>\n",
       "  </tbody>\n",
       "</table>\n",
       "<p>11331 rows × 9 columns</p>\n",
       "</div>"
      ],
      "text/plain": [
       "        user_id  month  total distance  total quantity  total duration  \\\n",
       "0             1      1     7027.511294               2            42.0   \n",
       "12            1      4      754.159807               1             7.0   \n",
       "24            1      8     6723.470560               2            46.0   \n",
       "36            1     10     5809.911100               2            32.0   \n",
       "48            1     11     7003.499363               3            56.0   \n",
       "...         ...    ...             ...             ...             ...   \n",
       "143446     1534      6     3409.468534               2            26.0   \n",
       "143459     1534      8     7622.453034               2            48.0   \n",
       "143472     1534      9     4928.173852               1            23.0   \n",
       "143485     1534     11    13350.015305               4            78.0   \n",
       "143498     1534     12     2371.711192               1            16.0   \n",
       "\n",
       "       subscription_type  minute_price  start_ride_price  subscription_fee  \n",
       "0                  ultra             6                 0               199  \n",
       "12                 ultra             6                 0               199  \n",
       "24                 ultra             6                 0               199  \n",
       "36                 ultra             6                 0               199  \n",
       "48                 ultra             6                 0               199  \n",
       "...                  ...           ...               ...               ...  \n",
       "143446              free             8                50                 0  \n",
       "143459              free             8                50                 0  \n",
       "143472              free             8                50                 0  \n",
       "143485              free             8                50                 0  \n",
       "143498              free             8                50                 0  \n",
       "\n",
       "[11331 rows x 9 columns]"
      ]
     },
     "execution_count": 43,
     "metadata": {},
     "output_type": "execute_result"
    }
   ],
   "source": [
    "#создам сводную таблицу, чтобы рассчитать выручку\n",
    "table_revenue = total_table_pivot.merge(tab, on='user_id')\n",
    "table_revenue = table_revenue.drop_duplicates()\n",
    "table_revenue"
   ]
  },
  {
   "cell_type": "markdown",
   "id": "2862350c",
   "metadata": {},
   "source": [
    "##### Помесячная выручка каждого пользователя"
   ]
  },
  {
   "cell_type": "code",
   "execution_count": 45,
   "id": "beef62fe",
   "metadata": {},
   "outputs": [],
   "source": [
    "#добавлю колонку, в которой будет рассчитываться выручка\n",
    "table_revenue['revenue_montly'] = (table_revenue['start_ride_price'] * table_revenue['total quantity']+\n",
    "                                   table_revenue['minute_price']*table_revenue['total duration']+\n",
    "                                   table_revenue['subscription_fee'])"
   ]
  },
  {
   "cell_type": "code",
   "execution_count": 46,
   "id": "b3a19c82",
   "metadata": {},
   "outputs": [
    {
     "data": {
      "text/html": [
       "<div>\n",
       "<style scoped>\n",
       "    .dataframe tbody tr th:only-of-type {\n",
       "        vertical-align: middle;\n",
       "    }\n",
       "\n",
       "    .dataframe tbody tr th {\n",
       "        vertical-align: top;\n",
       "    }\n",
       "\n",
       "    .dataframe thead th {\n",
       "        text-align: right;\n",
       "    }\n",
       "</style>\n",
       "<table border=\"1\" class=\"dataframe\">\n",
       "  <thead>\n",
       "    <tr style=\"text-align: right;\">\n",
       "      <th></th>\n",
       "      <th>user_id</th>\n",
       "      <th>month</th>\n",
       "      <th>total distance</th>\n",
       "      <th>total quantity</th>\n",
       "      <th>total duration</th>\n",
       "      <th>subscription_type</th>\n",
       "      <th>minute_price</th>\n",
       "      <th>start_ride_price</th>\n",
       "      <th>subscription_fee</th>\n",
       "      <th>revenue_montly</th>\n",
       "    </tr>\n",
       "  </thead>\n",
       "  <tbody>\n",
       "    <tr>\n",
       "      <th>0</th>\n",
       "      <td>1</td>\n",
       "      <td>1</td>\n",
       "      <td>7027.511294</td>\n",
       "      <td>2</td>\n",
       "      <td>42.0</td>\n",
       "      <td>ultra</td>\n",
       "      <td>6</td>\n",
       "      <td>0</td>\n",
       "      <td>199</td>\n",
       "      <td>451.0</td>\n",
       "    </tr>\n",
       "    <tr>\n",
       "      <th>12</th>\n",
       "      <td>1</td>\n",
       "      <td>4</td>\n",
       "      <td>754.159807</td>\n",
       "      <td>1</td>\n",
       "      <td>7.0</td>\n",
       "      <td>ultra</td>\n",
       "      <td>6</td>\n",
       "      <td>0</td>\n",
       "      <td>199</td>\n",
       "      <td>241.0</td>\n",
       "    </tr>\n",
       "    <tr>\n",
       "      <th>24</th>\n",
       "      <td>1</td>\n",
       "      <td>8</td>\n",
       "      <td>6723.470560</td>\n",
       "      <td>2</td>\n",
       "      <td>46.0</td>\n",
       "      <td>ultra</td>\n",
       "      <td>6</td>\n",
       "      <td>0</td>\n",
       "      <td>199</td>\n",
       "      <td>475.0</td>\n",
       "    </tr>\n",
       "    <tr>\n",
       "      <th>36</th>\n",
       "      <td>1</td>\n",
       "      <td>10</td>\n",
       "      <td>5809.911100</td>\n",
       "      <td>2</td>\n",
       "      <td>32.0</td>\n",
       "      <td>ultra</td>\n",
       "      <td>6</td>\n",
       "      <td>0</td>\n",
       "      <td>199</td>\n",
       "      <td>391.0</td>\n",
       "    </tr>\n",
       "    <tr>\n",
       "      <th>48</th>\n",
       "      <td>1</td>\n",
       "      <td>11</td>\n",
       "      <td>7003.499363</td>\n",
       "      <td>3</td>\n",
       "      <td>56.0</td>\n",
       "      <td>ultra</td>\n",
       "      <td>6</td>\n",
       "      <td>0</td>\n",
       "      <td>199</td>\n",
       "      <td>535.0</td>\n",
       "    </tr>\n",
       "  </tbody>\n",
       "</table>\n",
       "</div>"
      ],
      "text/plain": [
       "    user_id  month  total distance  total quantity  total duration  \\\n",
       "0         1      1     7027.511294               2            42.0   \n",
       "12        1      4      754.159807               1             7.0   \n",
       "24        1      8     6723.470560               2            46.0   \n",
       "36        1     10     5809.911100               2            32.0   \n",
       "48        1     11     7003.499363               3            56.0   \n",
       "\n",
       "   subscription_type  minute_price  start_ride_price  subscription_fee  \\\n",
       "0              ultra             6                 0               199   \n",
       "12             ultra             6                 0               199   \n",
       "24             ultra             6                 0               199   \n",
       "36             ultra             6                 0               199   \n",
       "48             ultra             6                 0               199   \n",
       "\n",
       "    revenue_montly  \n",
       "0            451.0  \n",
       "12           241.0  \n",
       "24           475.0  \n",
       "36           391.0  \n",
       "48           535.0  "
      ]
     },
     "execution_count": 46,
     "metadata": {},
     "output_type": "execute_result"
    }
   ],
   "source": [
    "table_revenue.head()"
   ]
  },
  {
   "cell_type": "markdown",
   "id": "41545ac0",
   "metadata": {},
   "source": [
    "#### Шаг 6. Проверка гипотез"
   ]
  },
  {
   "cell_type": "markdown",
   "id": "f4f920f8",
   "metadata": {},
   "source": [
    "##### Гипотеза 1 - тратят ли пользователи с подпиской больше времени на поездки?"
   ]
  },
  {
   "cell_type": "markdown",
   "id": "fe8a7cb9",
   "metadata": {},
   "source": [
    "H₀=пользователи с подпиской и без нее тратят одинаковое время на поездки\n",
    "    \n",
    "H1=пользователи с подпиской тратят больше времени на поездки, чем без нее\n",
    "    "
   ]
  },
  {
   "cell_type": "code",
   "execution_count": 47,
   "id": "f538f733",
   "metadata": {},
   "outputs": [],
   "source": [
    "#создам таблицы пользователей с подпиской \n",
    "ultra_dur = ultra['duration']\n",
    "\n",
    "#и без нее\n",
    "free_dur = free['duration']\n"
   ]
  },
  {
   "cell_type": "code",
   "execution_count": 48,
   "id": "c6a1a58f",
   "metadata": {},
   "outputs": [
    {
     "name": "stdout",
     "output_type": "stream",
     "text": [
      "p-value: 5.6757813771289775e-37\n",
      "среднее первой сов-ти:18.54198516280583\n",
      "среднее второй сов-ти:17.39090929866399\n",
      "Отвергаем нулевую гипотезу\n"
     ]
    }
   ],
   "source": [
    "alpha = 0.05\n",
    "\n",
    "# проводим ttest для двух сов-тей, в качестве альтернативной используем одностороннюю гипотезу «больше»\n",
    "results = st.ttest_ind(ultra_dur, free_dur, alternative='greater', equal_var=False)\n",
    "print(f'p-value: {results.pvalue}')\n",
    "\n",
    "print(f'среднее первой сов-ти:{np.mean(ultra_dur)}')\n",
    "print(f'среднее второй сов-ти:{np.mean(free_dur)}')\n",
    "\n",
    "# проверяем p-value\n",
    "if results.pvalue < alpha:\n",
    "    print('Отвергаем нулевую гипотезу')\n",
    "else:\n",
    "    print('Нет оснований отвергнуть нулевую гипотезу')\n"
   ]
  },
  {
   "cell_type": "markdown",
   "id": "1e602e13",
   "metadata": {},
   "source": [
    "**Вывод:**  гипотеза 1 подтвердилась - в среднем, пользователи с подпиской катаются больше времени, чем пользователи без подписки."
   ]
  },
  {
   "cell_type": "markdown",
   "id": "599c8105",
   "metadata": {},
   "source": [
    "##### Гипотеза 2 - Можно ли сказать, что среднее расстояние, которое проезжают пользователи с подпиской за одну поездку, не превышает 3130 метров?"
   ]
  },
  {
   "cell_type": "markdown",
   "id": "9db22587",
   "metadata": {},
   "source": [
    "H₀=пользователи с подпиской за одну поездку проезжают 3130 м (H₀ = 3130)\n",
    "    \n",
    "H1=пользователи с подпиской за одну поездку проезжают менее или равно 3130 м ((H₀ > 3130)\n",
    "    "
   ]
  },
  {
   "cell_type": "code",
   "execution_count": 49,
   "id": "f9072f8a",
   "metadata": {},
   "outputs": [
    {
     "name": "stdout",
     "output_type": "stream",
     "text": [
      "p-значение: 0.9195368847849785\n",
      "среднее:3115.4453880370247\n",
      "Не отвергаем нулевую гипотезу\n"
     ]
    }
   ],
   "source": [
    "#создам таблицу пользователей с подпиской \n",
    "ultra_dist = ultra['distance']\n",
    "ideal = 3130 #значение, которое проверяем в гипотезе\n",
    "alpha=0.01\n",
    "\n",
    "results = st.ttest_1samp(\n",
    "    ultra_dist, \n",
    "    ideal,\n",
    "      alternative='greater')\n",
    "\n",
    "print('p-значение:', results.pvalue)\n",
    "print(f'среднее:{np.mean(ultra_dist)}')\n",
    "\n",
    "if (results.pvalue < alpha):\n",
    "    print('Отвергаем нулевую гипотезу')\n",
    "else:\n",
    "    print('Не отвергаем нулевую гипотезу') \n",
    "\n"
   ]
  },
  {
   "cell_type": "markdown",
   "id": "11184228",
   "metadata": {},
   "source": [
    "**Вывод:** действительно, среднее расстояние в нашей совокупности меньше, чем 3130 метров, поэтому отвергаем одностороннюю альтернативную гипотезу и принимаем нулевую гипотезу."
   ]
  },
  {
   "cell_type": "markdown",
   "id": "1f73942a",
   "metadata": {},
   "source": [
    "##### Гипотеза 3 - Помесячная выручка от пользователей с подпиской по месяцам выше, чем выручка от пользователей без подписки?"
   ]
  },
  {
   "cell_type": "markdown",
   "id": "4677a474",
   "metadata": {},
   "source": [
    "H₀=пользователи с подпиской приносят выручку такую же, как и пользователи без нее \n",
    "    \n",
    "H1=пользователи с подпиской приносят больше выручки, чем пользователи без нее"
   ]
  },
  {
   "cell_type": "code",
   "execution_count": 50,
   "id": "4b9c08bb",
   "metadata": {},
   "outputs": [
    {
     "data": {
      "text/plain": [
       "0        451.0\n",
       "12       241.0\n",
       "24       475.0\n",
       "36       391.0\n",
       "48       535.0\n",
       "         ...  \n",
       "45467    301.0\n",
       "45475    469.0\n",
       "45483    385.0\n",
       "45491    295.0\n",
       "45499    355.0\n",
       "Name: revenue_montly, Length: 4533, dtype: float64"
      ]
     },
     "execution_count": 50,
     "metadata": {},
     "output_type": "execute_result"
    }
   ],
   "source": [
    "#таблица для подписок\n",
    "revenue_ultra = table_revenue.query('subscription_type == \"ultra\"')\n",
    "revenue_ultra = revenue_ultra['revenue_montly']\n",
    "revenue_ultra"
   ]
  },
  {
   "cell_type": "code",
   "execution_count": 51,
   "id": "24ef8ae9",
   "metadata": {},
   "outputs": [
    {
     "data": {
      "text/plain": [
       "45507     170.0\n",
       "45525     962.0\n",
       "45543     202.0\n",
       "45561     178.0\n",
       "45579     332.0\n",
       "          ...  \n",
       "143446    308.0\n",
       "143459    484.0\n",
       "143472    234.0\n",
       "143485    824.0\n",
       "143498    178.0\n",
       "Name: revenue_montly, Length: 6798, dtype: float64"
      ]
     },
     "execution_count": 51,
     "metadata": {},
     "output_type": "execute_result"
    }
   ],
   "source": [
    "#таблица без подписок\n",
    "revenue_free = table_revenue.query('subscription_type == \"free\"')\n",
    "revenue_free = revenue_free['revenue_montly']\n",
    "revenue_free"
   ]
  },
  {
   "cell_type": "code",
   "execution_count": 52,
   "id": "c62e6b7c",
   "metadata": {},
   "outputs": [
    {
     "name": "stdout",
     "output_type": "stream",
     "text": [
      "p-value: 8.874140893976874e-40\n",
      "среднее первой сов-ти:362.7921906022502\n",
      "среднее второй сов-ти:328.6413651073845\n",
      "Отвергаем нулевую гипотезу\n"
     ]
    }
   ],
   "source": [
    "alpha = 0.05\n",
    "\n",
    "# проводим ttest для двух сов-тей, в качестве альтернативной используем одностороннюю гипотезу «больше»\n",
    "results = st.ttest_ind(revenue_ultra, revenue_free, alternative='greater', equal_var=False)\n",
    "print(f'p-value: {results.pvalue}')\n",
    "\n",
    "print(f'среднее первой сов-ти:{np.mean(revenue_ultra)}')\n",
    "print(f'среднее второй сов-ти:{np.mean(revenue_free)}')\n",
    "\n",
    "# проверяем p-value\n",
    "if results.pvalue < alpha:\n",
    "    print('Отвергаем нулевую гипотезу')\n",
    "else:\n",
    "    print('Нет оснований отвергнуть нулевую гипотезу')"
   ]
  },
  {
   "cell_type": "markdown",
   "id": "a92c706f",
   "metadata": {},
   "source": [
    "**Вывод:**  гипотеза 3 подтвердилась - в среднем, выручка от пользователя с подпиской выше, чем от пользователи без подписки."
   ]
  },
  {
   "cell_type": "markdown",
   "id": "665b36b8",
   "metadata": {},
   "source": [
    "##### Гипотеза 4 - Какой тест понадобится?"
   ]
  },
  {
   "cell_type": "markdown",
   "id": "d32f90f2",
   "metadata": {},
   "source": [
    "Для решения потребуется тест на равенство средних для зависимых выборок, до и после изменений"
   ]
  },
  {
   "cell_type": "markdown",
   "id": "d6133b44",
   "metadata": {},
   "source": [
    "**Общий вывод:**\n",
    "\n",
    "**1)** ***Саммэри по данным***:\n",
    "\n",
    "- пропуски данных не обнаружены\n",
    "- исправила тип данных в колонке дата\n",
    "- убрала явные дубликаты\n",
    "\n",
    "**2)** ***Исследование***:\n",
    "- наибольшее кол-во поездок совершалось в Пятигорске за исследуемый период\n",
    "- сервис наиболее популярен у людей, не пользующихся подпиской - их более половины - 54%.\n",
    "- Сервис наиболее популярен у людей 25 лет. Мало пользователей возраст до 15 и после 35.\n",
    "- в среднем, каждая поездка составляет 2500-3500 м. \n",
    "- в основном, пользователи стремятся к тому, чтобы поездка длилась где-то от 15 до 20 мин.\n",
    "- независимо от наличия подписки, наиболее популярная продолжительность поездки составляет от 15 до 20 мин. При этом, пользователи с подпиской реже ездят на дальние расстояние (более 5000м, чем пользователи без подписки). И, если пользователи без подписки чаще всего ездят на расстояние от 2000 до 4000м, то пользователи с подпиской предпочитают больше расстояние в среднем около 3000 м.\n",
    "\n",
    "**3)** ***Рассчитала выручку по месяцам на каждого пользователя и далее проверила несколько гипотез***\n",
    "\n",
    "**4)** ***Проверка гипотез***:\n",
    "- гипотеза 1 подтвердилась - в среднем, пользователи с подпиской катаются больше времени, чем пользователи без подписки.\n",
    "- гипотеза 2 подтвердилась - действительно, среднее расстояние в нашей совокупности меньше, чем 3130 метров, поэтому отвергаем одностороннюю альтернативную гипотезу и принимаем нулевую гипотезу.\n",
    "- гипотеза 3 подтвердилась - в среднем, выручка от пользователя с подпиской выше, чем от пользователи без подписки.\n",
    "- если будем анализировать данные до и после обновления серверов, будем использовать проверку гипотезы для двух зависимых выборок.\n",
    "\n",
    "\n",
    "Хочу отметить, что данные были довольно \"чистыми\" и потребовали минимальной обработки, за что спасибо исполнителю.\n",
    "В качестве итогового вывода : пользователи с подпиской катаются больше времени и приносят больше выручки, чем пользователи без нее. Так что считаю, что стоит активно завлекать пользователей на приобретение подписки."
   ]
  }
 ],
 "metadata": {
  "ExecuteTimeLog": [
   {
    "duration": 64,
    "start_time": "2024-04-01T05:25:03.145Z"
   },
   {
    "duration": 47,
    "start_time": "2024-04-01T05:25:08.744Z"
   },
   {
    "duration": 386,
    "start_time": "2024-04-01T05:25:14.716Z"
   },
   {
    "duration": 27,
    "start_time": "2024-04-01T05:25:15.103Z"
   },
   {
    "duration": 73,
    "start_time": "2024-04-01T05:27:07.196Z"
   },
   {
    "duration": 7,
    "start_time": "2024-04-01T05:29:54.215Z"
   },
   {
    "duration": 2,
    "start_time": "2024-04-01T05:30:05.027Z"
   },
   {
    "duration": 174,
    "start_time": "2024-04-01T05:30:05.031Z"
   },
   {
    "duration": 13,
    "start_time": "2024-04-01T05:30:05.206Z"
   },
   {
    "duration": 9,
    "start_time": "2024-04-01T05:30:30.154Z"
   },
   {
    "duration": 7,
    "start_time": "2024-04-01T05:30:32.423Z"
   },
   {
    "duration": 14,
    "start_time": "2024-04-01T05:30:48.584Z"
   },
   {
    "duration": 8,
    "start_time": "2024-04-01T05:30:59.459Z"
   },
   {
    "duration": 7,
    "start_time": "2024-04-01T05:31:06.415Z"
   },
   {
    "duration": 6,
    "start_time": "2024-04-01T05:31:11.679Z"
   },
   {
    "duration": 3,
    "start_time": "2024-04-01T05:31:51.124Z"
   },
   {
    "duration": 79,
    "start_time": "2024-04-01T05:31:51.129Z"
   },
   {
    "duration": 8,
    "start_time": "2024-04-01T05:31:51.210Z"
   },
   {
    "duration": 8,
    "start_time": "2024-04-01T05:31:51.220Z"
   },
   {
    "duration": 7,
    "start_time": "2024-04-01T05:31:51.230Z"
   },
   {
    "duration": 3,
    "start_time": "2024-04-01T05:54:26.550Z"
   },
   {
    "duration": 95,
    "start_time": "2024-04-01T05:54:26.555Z"
   },
   {
    "duration": 11,
    "start_time": "2024-04-01T05:54:26.653Z"
   },
   {
    "duration": 25,
    "start_time": "2024-04-01T05:54:26.667Z"
   },
   {
    "duration": 11,
    "start_time": "2024-04-01T05:54:26.694Z"
   },
   {
    "duration": 14,
    "start_time": "2024-04-01T05:54:26.707Z"
   },
   {
    "duration": 10,
    "start_time": "2024-04-01T05:54:26.723Z"
   },
   {
    "duration": 34,
    "start_time": "2024-04-01T05:54:26.735Z"
   },
   {
    "duration": 24,
    "start_time": "2024-04-01T05:58:03.478Z"
   },
   {
    "duration": 10,
    "start_time": "2024-04-01T05:58:21.317Z"
   },
   {
    "duration": 2,
    "start_time": "2024-04-01T06:01:34.231Z"
   },
   {
    "duration": 90,
    "start_time": "2024-04-01T06:01:34.235Z"
   },
   {
    "duration": 8,
    "start_time": "2024-04-01T06:01:34.327Z"
   },
   {
    "duration": 25,
    "start_time": "2024-04-01T06:01:34.336Z"
   },
   {
    "duration": 17,
    "start_time": "2024-04-01T06:01:34.364Z"
   },
   {
    "duration": 16,
    "start_time": "2024-04-01T06:01:34.382Z"
   },
   {
    "duration": 16,
    "start_time": "2024-04-01T06:01:34.400Z"
   },
   {
    "duration": 24,
    "start_time": "2024-04-01T06:01:34.418Z"
   },
   {
    "duration": 13,
    "start_time": "2024-04-01T06:06:58.491Z"
   },
   {
    "duration": 3,
    "start_time": "2024-04-01T06:07:10.481Z"
   },
   {
    "duration": 71,
    "start_time": "2024-04-01T06:07:10.485Z"
   },
   {
    "duration": 7,
    "start_time": "2024-04-01T06:07:10.558Z"
   },
   {
    "duration": 10,
    "start_time": "2024-04-01T06:07:10.567Z"
   },
   {
    "duration": 7,
    "start_time": "2024-04-01T06:07:10.579Z"
   },
   {
    "duration": 17,
    "start_time": "2024-04-01T06:07:10.587Z"
   },
   {
    "duration": 6,
    "start_time": "2024-04-01T06:07:10.605Z"
   },
   {
    "duration": 11,
    "start_time": "2024-04-01T06:07:10.612Z"
   },
   {
    "duration": 14,
    "start_time": "2024-04-01T06:07:10.624Z"
   },
   {
    "duration": 6,
    "start_time": "2024-04-01T06:07:10.666Z"
   },
   {
    "duration": 17,
    "start_time": "2024-04-01T06:08:07.133Z"
   },
   {
    "duration": 17,
    "start_time": "2024-04-01T06:08:27.516Z"
   },
   {
    "duration": 3,
    "start_time": "2024-04-01T06:09:17.772Z"
   },
   {
    "duration": 12,
    "start_time": "2024-04-01T06:15:44.342Z"
   },
   {
    "duration": 7,
    "start_time": "2024-04-01T06:16:07.558Z"
   },
   {
    "duration": 7,
    "start_time": "2024-04-01T06:16:56.775Z"
   },
   {
    "duration": 6,
    "start_time": "2024-04-01T06:17:09.839Z"
   },
   {
    "duration": 6,
    "start_time": "2024-04-01T06:17:31.174Z"
   },
   {
    "duration": 8,
    "start_time": "2024-04-01T06:24:06.026Z"
   },
   {
    "duration": 7,
    "start_time": "2024-04-01T06:27:08.217Z"
   },
   {
    "duration": 9,
    "start_time": "2024-04-01T06:27:21.816Z"
   },
   {
    "duration": 8,
    "start_time": "2024-04-01T06:30:41.632Z"
   },
   {
    "duration": 6,
    "start_time": "2024-04-01T06:30:47.199Z"
   },
   {
    "duration": 3,
    "start_time": "2024-04-01T06:31:13.224Z"
   },
   {
    "duration": 4,
    "start_time": "2024-04-01T06:31:44.578Z"
   },
   {
    "duration": 3,
    "start_time": "2024-04-01T06:31:46.886Z"
   },
   {
    "duration": 2,
    "start_time": "2024-04-01T06:33:03.359Z"
   },
   {
    "duration": 7,
    "start_time": "2024-04-01T06:34:35.180Z"
   },
   {
    "duration": 6,
    "start_time": "2024-04-01T06:34:42.887Z"
   },
   {
    "duration": 8,
    "start_time": "2024-04-01T06:35:28.337Z"
   },
   {
    "duration": 6,
    "start_time": "2024-04-01T06:36:52.461Z"
   },
   {
    "duration": 4,
    "start_time": "2024-04-01T06:37:12.868Z"
   },
   {
    "duration": 3,
    "start_time": "2024-04-01T06:55:13.030Z"
   },
   {
    "duration": 2,
    "start_time": "2024-04-01T06:59:59.260Z"
   },
   {
    "duration": 67,
    "start_time": "2024-04-01T06:59:59.264Z"
   },
   {
    "duration": 8,
    "start_time": "2024-04-01T06:59:59.332Z"
   },
   {
    "duration": 10,
    "start_time": "2024-04-01T06:59:59.343Z"
   },
   {
    "duration": 9,
    "start_time": "2024-04-01T06:59:59.355Z"
   },
   {
    "duration": 11,
    "start_time": "2024-04-01T06:59:59.365Z"
   },
   {
    "duration": 7,
    "start_time": "2024-04-01T06:59:59.377Z"
   },
   {
    "duration": 9,
    "start_time": "2024-04-01T06:59:59.386Z"
   },
   {
    "duration": 12,
    "start_time": "2024-04-01T06:59:59.398Z"
   },
   {
    "duration": 10,
    "start_time": "2024-04-01T06:59:59.412Z"
   },
   {
    "duration": 5,
    "start_time": "2024-04-01T06:59:59.424Z"
   },
   {
    "duration": 39,
    "start_time": "2024-04-01T06:59:59.430Z"
   },
   {
    "duration": 37,
    "start_time": "2024-04-01T06:59:59.470Z"
   },
   {
    "duration": 4,
    "start_time": "2024-04-01T06:59:59.508Z"
   },
   {
    "duration": 4,
    "start_time": "2024-04-01T06:59:59.513Z"
   },
   {
    "duration": 6,
    "start_time": "2024-04-01T06:59:59.519Z"
   },
   {
    "duration": 6,
    "start_time": "2024-04-01T06:59:59.527Z"
   },
   {
    "duration": 5,
    "start_time": "2024-04-01T06:59:59.534Z"
   },
   {
    "duration": 4,
    "start_time": "2024-04-01T06:59:59.540Z"
   },
   {
    "duration": 938,
    "start_time": "2024-04-01T06:59:59.546Z"
   },
   {
    "duration": 204,
    "start_time": "2024-04-01T07:00:00.486Z"
   },
   {
    "duration": 3,
    "start_time": "2024-04-01T07:00:39.796Z"
   },
   {
    "duration": 4,
    "start_time": "2024-04-01T07:00:46.473Z"
   },
   {
    "duration": 79,
    "start_time": "2024-04-01T07:00:46.479Z"
   },
   {
    "duration": 8,
    "start_time": "2024-04-01T07:00:46.560Z"
   },
   {
    "duration": 19,
    "start_time": "2024-04-01T07:00:46.570Z"
   },
   {
    "duration": 16,
    "start_time": "2024-04-01T07:00:46.591Z"
   },
   {
    "duration": 23,
    "start_time": "2024-04-01T07:00:46.608Z"
   },
   {
    "duration": 12,
    "start_time": "2024-04-01T07:00:46.633Z"
   },
   {
    "duration": 11,
    "start_time": "2024-04-01T07:00:46.647Z"
   },
   {
    "duration": 42,
    "start_time": "2024-04-01T07:00:46.660Z"
   },
   {
    "duration": 15,
    "start_time": "2024-04-01T07:00:46.706Z"
   },
   {
    "duration": 11,
    "start_time": "2024-04-01T07:00:46.722Z"
   },
   {
    "duration": 7,
    "start_time": "2024-04-01T07:00:46.735Z"
   },
   {
    "duration": 8,
    "start_time": "2024-04-01T07:00:46.744Z"
   },
   {
    "duration": 12,
    "start_time": "2024-04-01T07:00:46.754Z"
   },
   {
    "duration": 28,
    "start_time": "2024-04-01T07:00:46.768Z"
   },
   {
    "duration": 10,
    "start_time": "2024-04-01T07:00:46.798Z"
   },
   {
    "duration": 17,
    "start_time": "2024-04-01T07:00:46.810Z"
   },
   {
    "duration": 17,
    "start_time": "2024-04-01T07:00:46.829Z"
   },
   {
    "duration": 17,
    "start_time": "2024-04-01T07:00:46.847Z"
   },
   {
    "duration": 21,
    "start_time": "2024-04-01T07:00:46.866Z"
   },
   {
    "duration": 158,
    "start_time": "2024-04-01T07:00:46.889Z"
   },
   {
    "duration": 139,
    "start_time": "2024-04-01T07:00:54.029Z"
   },
   {
    "duration": 136,
    "start_time": "2024-04-01T07:01:05.192Z"
   },
   {
    "duration": 138,
    "start_time": "2024-04-01T07:01:19.708Z"
   },
   {
    "duration": 135,
    "start_time": "2024-04-01T07:01:23.808Z"
   },
   {
    "duration": 134,
    "start_time": "2024-04-01T07:01:30.372Z"
   },
   {
    "duration": 203,
    "start_time": "2024-04-01T07:01:38.576Z"
   },
   {
    "duration": 134,
    "start_time": "2024-04-01T07:01:57.569Z"
   },
   {
    "duration": 103,
    "start_time": "2024-04-01T07:05:52.921Z"
   },
   {
    "duration": 156,
    "start_time": "2024-04-01T07:06:31.614Z"
   },
   {
    "duration": 143,
    "start_time": "2024-04-01T07:06:57.710Z"
   },
   {
    "duration": 297,
    "start_time": "2024-04-01T07:11:23.678Z"
   },
   {
    "duration": 339,
    "start_time": "2024-04-01T07:11:40.648Z"
   },
   {
    "duration": 289,
    "start_time": "2024-04-01T07:11:48.710Z"
   },
   {
    "duration": 377,
    "start_time": "2024-04-01T07:12:05.369Z"
   },
   {
    "duration": 295,
    "start_time": "2024-04-01T07:12:31.195Z"
   },
   {
    "duration": 151,
    "start_time": "2024-04-01T07:12:44.629Z"
   },
   {
    "duration": 119,
    "start_time": "2024-04-01T07:13:14.833Z"
   },
   {
    "duration": 111,
    "start_time": "2024-04-01T07:13:24.356Z"
   },
   {
    "duration": 139,
    "start_time": "2024-04-01T07:13:29.570Z"
   },
   {
    "duration": 116,
    "start_time": "2024-04-01T07:14:19.368Z"
   },
   {
    "duration": 172,
    "start_time": "2024-04-01T07:14:24.935Z"
   },
   {
    "duration": 377,
    "start_time": "2024-04-01T07:15:38.524Z"
   },
   {
    "duration": 285,
    "start_time": "2024-04-01T07:15:50.775Z"
   },
   {
    "duration": 157,
    "start_time": "2024-04-01T07:16:14.143Z"
   },
   {
    "duration": 993,
    "start_time": "2024-04-01T07:18:41.206Z"
   },
   {
    "duration": 2,
    "start_time": "2024-04-01T07:18:55.352Z"
   },
   {
    "duration": 83,
    "start_time": "2024-04-01T07:18:55.356Z"
   },
   {
    "duration": 8,
    "start_time": "2024-04-01T07:18:55.440Z"
   },
   {
    "duration": 29,
    "start_time": "2024-04-01T07:18:55.450Z"
   },
   {
    "duration": 21,
    "start_time": "2024-04-01T07:18:55.481Z"
   },
   {
    "duration": 28,
    "start_time": "2024-04-01T07:18:55.504Z"
   },
   {
    "duration": 24,
    "start_time": "2024-04-01T07:18:55.533Z"
   },
   {
    "duration": 16,
    "start_time": "2024-04-01T07:18:55.558Z"
   },
   {
    "duration": 34,
    "start_time": "2024-04-01T07:18:55.577Z"
   },
   {
    "duration": 50,
    "start_time": "2024-04-01T07:18:55.613Z"
   },
   {
    "duration": 19,
    "start_time": "2024-04-01T07:18:55.664Z"
   },
   {
    "duration": 22,
    "start_time": "2024-04-01T07:18:55.684Z"
   },
   {
    "duration": 29,
    "start_time": "2024-04-01T07:18:55.708Z"
   },
   {
    "duration": 43,
    "start_time": "2024-04-01T07:18:55.739Z"
   },
   {
    "duration": 27,
    "start_time": "2024-04-01T07:18:55.783Z"
   },
   {
    "duration": 46,
    "start_time": "2024-04-01T07:18:55.811Z"
   },
   {
    "duration": 46,
    "start_time": "2024-04-01T07:18:55.859Z"
   },
   {
    "duration": 19,
    "start_time": "2024-04-01T07:18:55.907Z"
   },
   {
    "duration": 41,
    "start_time": "2024-04-01T07:18:55.927Z"
   },
   {
    "duration": 22,
    "start_time": "2024-04-01T07:18:55.970Z"
   },
   {
    "duration": 161,
    "start_time": "2024-04-01T07:18:55.994Z"
   },
   {
    "duration": 923,
    "start_time": "2024-04-01T07:18:56.157Z"
   },
   {
    "duration": 116,
    "start_time": "2024-04-01T07:19:26.819Z"
   },
   {
    "duration": 190,
    "start_time": "2024-04-01T07:20:22.961Z"
   },
   {
    "duration": 77,
    "start_time": "2024-04-01T07:23:29.602Z"
   },
   {
    "duration": 130,
    "start_time": "2024-04-01T07:27:54.353Z"
   },
   {
    "duration": 159,
    "start_time": "2024-04-01T07:29:37.506Z"
   },
   {
    "duration": 230,
    "start_time": "2024-04-01T07:29:52.311Z"
   },
   {
    "duration": 160,
    "start_time": "2024-04-01T07:30:01.018Z"
   },
   {
    "duration": 1478,
    "start_time": "2024-04-01T07:30:05.302Z"
   },
   {
    "duration": 765,
    "start_time": "2024-04-01T07:30:15.207Z"
   },
   {
    "duration": 260,
    "start_time": "2024-04-01T07:30:23.867Z"
   },
   {
    "duration": 454,
    "start_time": "2024-04-01T07:41:22.608Z"
   },
   {
    "duration": 197,
    "start_time": "2024-04-01T07:41:30.956Z"
   },
   {
    "duration": 23,
    "start_time": "2024-04-01T07:56:37.532Z"
   },
   {
    "duration": 25,
    "start_time": "2024-04-01T08:01:19.107Z"
   },
   {
    "duration": 16,
    "start_time": "2024-04-01T08:04:28.018Z"
   },
   {
    "duration": 15,
    "start_time": "2024-04-01T08:04:43.798Z"
   },
   {
    "duration": 28,
    "start_time": "2024-04-01T08:04:52.360Z"
   },
   {
    "duration": 28,
    "start_time": "2024-04-01T08:05:01.635Z"
   },
   {
    "duration": 31,
    "start_time": "2024-04-01T08:15:11.613Z"
   },
   {
    "duration": 9,
    "start_time": "2024-04-01T08:15:30.389Z"
   },
   {
    "duration": 14,
    "start_time": "2024-04-01T08:15:51.219Z"
   },
   {
    "duration": 3,
    "start_time": "2024-04-01T08:19:35.760Z"
   },
   {
    "duration": 16,
    "start_time": "2024-04-01T08:21:02.978Z"
   },
   {
    "duration": 26,
    "start_time": "2024-04-01T08:21:44.610Z"
   },
   {
    "duration": 53,
    "start_time": "2024-04-01T08:24:01.188Z"
   },
   {
    "duration": 60,
    "start_time": "2024-04-01T08:24:06.861Z"
   },
   {
    "duration": 8,
    "start_time": "2024-04-01T08:24:30.952Z"
   },
   {
    "duration": 22,
    "start_time": "2024-04-01T08:24:37.570Z"
   },
   {
    "duration": 31,
    "start_time": "2024-04-01T08:27:36.251Z"
   },
   {
    "duration": 20,
    "start_time": "2024-04-01T08:27:48.127Z"
   },
   {
    "duration": 21,
    "start_time": "2024-04-01T08:29:34.476Z"
   },
   {
    "duration": 20,
    "start_time": "2024-04-01T08:30:02.766Z"
   },
   {
    "duration": 3,
    "start_time": "2024-04-01T08:31:31.370Z"
   },
   {
    "duration": 101,
    "start_time": "2024-04-01T08:31:31.374Z"
   },
   {
    "duration": 7,
    "start_time": "2024-04-01T08:31:31.477Z"
   },
   {
    "duration": 48,
    "start_time": "2024-04-01T08:31:31.486Z"
   },
   {
    "duration": 59,
    "start_time": "2024-04-01T08:31:31.535Z"
   },
   {
    "duration": 44,
    "start_time": "2024-04-01T08:31:31.595Z"
   },
   {
    "duration": 52,
    "start_time": "2024-04-01T08:31:31.640Z"
   },
   {
    "duration": 69,
    "start_time": "2024-04-01T08:31:31.694Z"
   },
   {
    "duration": 58,
    "start_time": "2024-04-01T08:31:31.765Z"
   },
   {
    "duration": 62,
    "start_time": "2024-04-01T08:31:31.824Z"
   },
   {
    "duration": 69,
    "start_time": "2024-04-01T08:31:31.889Z"
   },
   {
    "duration": 41,
    "start_time": "2024-04-01T08:31:31.960Z"
   },
   {
    "duration": 41,
    "start_time": "2024-04-01T08:31:32.003Z"
   },
   {
    "duration": 18,
    "start_time": "2024-04-01T08:31:32.046Z"
   },
   {
    "duration": 22,
    "start_time": "2024-04-01T08:31:32.065Z"
   },
   {
    "duration": 18,
    "start_time": "2024-04-01T08:31:32.088Z"
   },
   {
    "duration": 11,
    "start_time": "2024-04-01T08:31:32.108Z"
   },
   {
    "duration": 19,
    "start_time": "2024-04-01T08:31:32.120Z"
   },
   {
    "duration": 24,
    "start_time": "2024-04-01T08:31:32.141Z"
   },
   {
    "duration": 25,
    "start_time": "2024-04-01T08:31:32.166Z"
   },
   {
    "duration": 156,
    "start_time": "2024-04-01T08:31:32.193Z"
   },
   {
    "duration": 78,
    "start_time": "2024-04-01T08:31:32.351Z"
   },
   {
    "duration": 291,
    "start_time": "2024-04-01T08:31:32.431Z"
   },
   {
    "duration": 202,
    "start_time": "2024-04-01T08:31:32.724Z"
   },
   {
    "duration": 41,
    "start_time": "2024-04-01T08:31:32.928Z"
   },
   {
    "duration": 15,
    "start_time": "2024-04-01T08:31:32.971Z"
   },
   {
    "duration": 22,
    "start_time": "2024-04-01T08:31:32.987Z"
   },
   {
    "duration": 20,
    "start_time": "2024-04-01T08:31:33.011Z"
   },
   {
    "duration": 938,
    "start_time": "2024-04-01T09:12:30.082Z"
   },
   {
    "duration": 202,
    "start_time": "2024-04-01T09:12:37.868Z"
   },
   {
    "duration": 294,
    "start_time": "2024-04-01T09:12:45.895Z"
   },
   {
    "duration": 194,
    "start_time": "2024-04-01T09:13:03.941Z"
   },
   {
    "duration": 436,
    "start_time": "2024-04-01T09:13:42.347Z"
   },
   {
    "duration": 430,
    "start_time": "2024-04-01T09:14:37.136Z"
   },
   {
    "duration": 6,
    "start_time": "2024-04-01T09:26:14.158Z"
   },
   {
    "duration": 9,
    "start_time": "2024-04-01T09:26:28.134Z"
   },
   {
    "duration": 9,
    "start_time": "2024-04-01T09:27:50.666Z"
   },
   {
    "duration": 5,
    "start_time": "2024-04-01T09:27:55.858Z"
   },
   {
    "duration": 12,
    "start_time": "2024-04-01T10:03:20.906Z"
   },
   {
    "duration": 11,
    "start_time": "2024-04-01T10:03:28.351Z"
   },
   {
    "duration": 9,
    "start_time": "2024-04-01T10:04:16.114Z"
   },
   {
    "duration": 62,
    "start_time": "2024-04-01T10:04:47.323Z"
   },
   {
    "duration": 8,
    "start_time": "2024-04-01T10:04:55.248Z"
   },
   {
    "duration": 430,
    "start_time": "2024-04-01T10:05:12.237Z"
   },
   {
    "duration": 69,
    "start_time": "2024-04-01T10:05:12.669Z"
   },
   {
    "duration": 16,
    "start_time": "2024-04-01T10:05:12.739Z"
   },
   {
    "duration": 25,
    "start_time": "2024-04-01T10:05:12.757Z"
   },
   {
    "duration": 21,
    "start_time": "2024-04-01T10:05:12.783Z"
   },
   {
    "duration": 14,
    "start_time": "2024-04-01T10:05:12.805Z"
   },
   {
    "duration": 18,
    "start_time": "2024-04-01T10:05:12.821Z"
   },
   {
    "duration": 12,
    "start_time": "2024-04-01T10:05:12.841Z"
   },
   {
    "duration": 39,
    "start_time": "2024-04-01T10:05:12.854Z"
   },
   {
    "duration": 22,
    "start_time": "2024-04-01T10:05:12.897Z"
   },
   {
    "duration": 21,
    "start_time": "2024-04-01T10:05:12.920Z"
   },
   {
    "duration": 24,
    "start_time": "2024-04-01T10:05:12.942Z"
   },
   {
    "duration": 19,
    "start_time": "2024-04-01T10:05:12.967Z"
   },
   {
    "duration": 17,
    "start_time": "2024-04-01T10:05:12.987Z"
   },
   {
    "duration": 16,
    "start_time": "2024-04-01T10:05:13.006Z"
   },
   {
    "duration": 28,
    "start_time": "2024-04-01T10:05:13.024Z"
   },
   {
    "duration": 18,
    "start_time": "2024-04-01T10:05:13.053Z"
   },
   {
    "duration": 10,
    "start_time": "2024-04-01T10:05:13.073Z"
   },
   {
    "duration": 15,
    "start_time": "2024-04-01T10:05:13.084Z"
   },
   {
    "duration": 789,
    "start_time": "2024-04-01T10:05:13.101Z"
   },
   {
    "duration": 158,
    "start_time": "2024-04-01T10:05:13.891Z"
   },
   {
    "duration": 89,
    "start_time": "2024-04-01T10:05:14.052Z"
   },
   {
    "duration": 270,
    "start_time": "2024-04-01T10:05:14.143Z"
   },
   {
    "duration": 201,
    "start_time": "2024-04-01T10:05:14.415Z"
   },
   {
    "duration": 28,
    "start_time": "2024-04-01T10:05:14.618Z"
   },
   {
    "duration": 25,
    "start_time": "2024-04-01T10:05:14.648Z"
   },
   {
    "duration": 22,
    "start_time": "2024-04-01T10:05:14.674Z"
   },
   {
    "duration": 26,
    "start_time": "2024-04-01T10:05:14.699Z"
   },
   {
    "duration": 530,
    "start_time": "2024-04-01T10:05:14.727Z"
   },
   {
    "duration": 480,
    "start_time": "2024-04-01T10:05:15.259Z"
   },
   {
    "duration": 3,
    "start_time": "2024-04-01T10:05:15.741Z"
   },
   {
    "duration": 19,
    "start_time": "2024-04-01T10:05:15.746Z"
   },
   {
    "duration": 11,
    "start_time": "2024-04-01T10:05:15.767Z"
   },
   {
    "duration": 111,
    "start_time": "2024-04-01T10:05:15.779Z"
   },
   {
    "duration": 9,
    "start_time": "2024-04-01T10:06:03.263Z"
   },
   {
    "duration": 9,
    "start_time": "2024-04-01T10:06:32.159Z"
   },
   {
    "duration": 10,
    "start_time": "2024-04-01T10:07:00.815Z"
   },
   {
    "duration": 13,
    "start_time": "2024-04-01T10:07:16.919Z"
   },
   {
    "duration": 9,
    "start_time": "2024-04-01T10:07:47.596Z"
   },
   {
    "duration": 9,
    "start_time": "2024-04-01T10:08:20.228Z"
   },
   {
    "duration": 13,
    "start_time": "2024-04-01T10:09:08.081Z"
   },
   {
    "duration": 9,
    "start_time": "2024-04-01T10:09:17.833Z"
   },
   {
    "duration": 32,
    "start_time": "2024-04-01T10:09:52.001Z"
   },
   {
    "duration": 39,
    "start_time": "2024-04-01T10:13:50.601Z"
   },
   {
    "duration": 14,
    "start_time": "2024-04-01T10:13:55.759Z"
   },
   {
    "duration": 6,
    "start_time": "2024-04-01T10:39:33.791Z"
   },
   {
    "duration": 963,
    "start_time": "2024-04-01T10:41:29.427Z"
   },
   {
    "duration": 13,
    "start_time": "2024-04-01T10:42:17.597Z"
   },
   {
    "duration": 39,
    "start_time": "2024-04-01T10:48:56.031Z"
   },
   {
    "duration": 34,
    "start_time": "2024-04-01T10:49:40.335Z"
   },
   {
    "duration": 45,
    "start_time": "2024-04-01T10:51:03.437Z"
   },
   {
    "duration": 39,
    "start_time": "2024-04-01T10:51:12.757Z"
   },
   {
    "duration": 36,
    "start_time": "2024-04-01T10:53:36.187Z"
   },
   {
    "duration": 75,
    "start_time": "2024-04-01T10:54:25.102Z"
   },
   {
    "duration": 18,
    "start_time": "2024-04-01T10:57:59.865Z"
   },
   {
    "duration": 3,
    "start_time": "2024-04-01T10:58:05.353Z"
   },
   {
    "duration": 57,
    "start_time": "2024-04-01T11:05:47.970Z"
   },
   {
    "duration": 5,
    "start_time": "2024-04-01T11:05:58.458Z"
   },
   {
    "duration": 6,
    "start_time": "2024-04-01T11:06:00.829Z"
   },
   {
    "duration": 61,
    "start_time": "2024-04-01T11:06:06.254Z"
   },
   {
    "duration": 5,
    "start_time": "2024-04-01T11:06:27.602Z"
   },
   {
    "duration": 7,
    "start_time": "2024-04-01T11:06:29.861Z"
   },
   {
    "duration": 4,
    "start_time": "2024-04-01T11:06:39.821Z"
   },
   {
    "duration": 5,
    "start_time": "2024-04-01T11:06:41.850Z"
   },
   {
    "duration": 19,
    "start_time": "2024-04-01T11:06:59.898Z"
   },
   {
    "duration": 27,
    "start_time": "2024-04-01T11:07:10.163Z"
   },
   {
    "duration": 3,
    "start_time": "2024-04-01T11:18:21.998Z"
   },
   {
    "duration": 20,
    "start_time": "2024-04-01T11:18:24.228Z"
   },
   {
    "duration": 10,
    "start_time": "2024-04-01T11:19:30.189Z"
   },
   {
    "duration": 18,
    "start_time": "2024-04-01T11:19:47.524Z"
   },
   {
    "duration": 8,
    "start_time": "2024-04-01T11:19:57.162Z"
   },
   {
    "duration": 12,
    "start_time": "2024-04-01T11:20:38.958Z"
   },
   {
    "duration": 21,
    "start_time": "2024-04-01T11:20:47.497Z"
   },
   {
    "duration": 9,
    "start_time": "2024-04-01T11:21:38.555Z"
   },
   {
    "duration": 12,
    "start_time": "2024-04-01T11:23:28.211Z"
   },
   {
    "duration": 5,
    "start_time": "2024-04-01T11:23:36.059Z"
   },
   {
    "duration": 6,
    "start_time": "2024-04-01T11:24:45.113Z"
   },
   {
    "duration": 5,
    "start_time": "2024-04-01T11:30:17.722Z"
   },
   {
    "duration": 6,
    "start_time": "2024-04-01T11:30:26.737Z"
   },
   {
    "duration": 7,
    "start_time": "2024-04-01T11:30:47.623Z"
   },
   {
    "duration": 10,
    "start_time": "2024-04-01T12:02:08.688Z"
   },
   {
    "duration": 11,
    "start_time": "2024-04-01T12:06:14.206Z"
   },
   {
    "duration": 10,
    "start_time": "2024-04-01T12:06:18.657Z"
   },
   {
    "duration": 7,
    "start_time": "2024-04-01T12:06:20.405Z"
   },
   {
    "duration": 5,
    "start_time": "2024-04-01T12:07:23.720Z"
   },
   {
    "duration": 6,
    "start_time": "2024-04-01T12:24:09.273Z"
   },
   {
    "duration": 5,
    "start_time": "2024-04-01T12:29:13.846Z"
   },
   {
    "duration": 5,
    "start_time": "2024-04-01T12:30:03.790Z"
   },
   {
    "duration": 3,
    "start_time": "2024-04-01T12:51:55.244Z"
   },
   {
    "duration": 72,
    "start_time": "2024-04-01T12:51:55.249Z"
   },
   {
    "duration": 9,
    "start_time": "2024-04-01T12:51:55.323Z"
   },
   {
    "duration": 16,
    "start_time": "2024-04-01T12:51:55.334Z"
   },
   {
    "duration": 27,
    "start_time": "2024-04-01T12:51:55.351Z"
   },
   {
    "duration": 27,
    "start_time": "2024-04-01T12:51:55.380Z"
   },
   {
    "duration": 31,
    "start_time": "2024-04-01T12:51:55.409Z"
   },
   {
    "duration": 25,
    "start_time": "2024-04-01T12:51:55.441Z"
   },
   {
    "duration": 30,
    "start_time": "2024-04-01T12:51:55.468Z"
   },
   {
    "duration": 20,
    "start_time": "2024-04-01T12:51:55.500Z"
   },
   {
    "duration": 6,
    "start_time": "2024-04-01T12:51:55.521Z"
   },
   {
    "duration": 17,
    "start_time": "2024-04-01T12:51:55.528Z"
   },
   {
    "duration": 19,
    "start_time": "2024-04-01T12:51:55.547Z"
   },
   {
    "duration": 21,
    "start_time": "2024-04-01T12:51:55.567Z"
   },
   {
    "duration": 25,
    "start_time": "2024-04-01T12:51:55.590Z"
   },
   {
    "duration": 21,
    "start_time": "2024-04-01T12:51:55.616Z"
   },
   {
    "duration": 17,
    "start_time": "2024-04-01T12:51:55.638Z"
   },
   {
    "duration": 28,
    "start_time": "2024-04-01T12:51:55.656Z"
   },
   {
    "duration": 27,
    "start_time": "2024-04-01T12:51:55.685Z"
   },
   {
    "duration": 14,
    "start_time": "2024-04-01T12:51:55.714Z"
   },
   {
    "duration": 166,
    "start_time": "2024-04-01T12:51:55.729Z"
   },
   {
    "duration": 116,
    "start_time": "2024-04-01T12:51:55.897Z"
   },
   {
    "duration": 291,
    "start_time": "2024-04-01T12:51:56.015Z"
   },
   {
    "duration": 225,
    "start_time": "2024-04-01T12:51:56.309Z"
   },
   {
    "duration": 39,
    "start_time": "2024-04-01T12:51:56.536Z"
   },
   {
    "duration": 14,
    "start_time": "2024-04-01T12:51:56.576Z"
   },
   {
    "duration": 51,
    "start_time": "2024-04-01T12:51:56.591Z"
   },
   {
    "duration": 19,
    "start_time": "2024-04-01T12:51:56.643Z"
   },
   {
    "duration": 554,
    "start_time": "2024-04-01T12:51:56.664Z"
   },
   {
    "duration": 442,
    "start_time": "2024-04-01T12:51:57.219Z"
   },
   {
    "duration": 2,
    "start_time": "2024-04-01T12:51:57.663Z"
   },
   {
    "duration": 17,
    "start_time": "2024-04-01T12:51:57.667Z"
   },
   {
    "duration": 6,
    "start_time": "2024-04-01T12:51:57.686Z"
   },
   {
    "duration": 42,
    "start_time": "2024-04-01T12:51:57.693Z"
   },
   {
    "duration": 12,
    "start_time": "2024-04-01T12:51:57.737Z"
   },
   {
    "duration": 4,
    "start_time": "2024-04-01T12:51:57.766Z"
   },
   {
    "duration": 6,
    "start_time": "2024-04-01T12:51:57.772Z"
   },
   {
    "duration": 91,
    "start_time": "2024-04-01T12:51:57.780Z"
   },
   {
    "duration": 4,
    "start_time": "2024-04-01T12:51:57.873Z"
   },
   {
    "duration": 13,
    "start_time": "2024-04-01T12:51:57.878Z"
   },
   {
    "duration": 22,
    "start_time": "2024-04-01T12:51:57.893Z"
   },
   {
    "duration": 13,
    "start_time": "2024-04-01T12:51:57.917Z"
   },
   {
    "duration": 8,
    "start_time": "2024-04-01T12:51:57.932Z"
   },
   {
    "duration": 29,
    "start_time": "2024-04-01T12:51:57.942Z"
   },
   {
    "duration": 5,
    "start_time": "2024-04-01T12:54:54.562Z"
   },
   {
    "duration": 2,
    "start_time": "2024-04-01T13:04:32.502Z"
   },
   {
    "duration": 96,
    "start_time": "2024-04-01T13:04:32.506Z"
   },
   {
    "duration": 8,
    "start_time": "2024-04-01T13:04:32.604Z"
   },
   {
    "duration": 27,
    "start_time": "2024-04-01T13:04:32.613Z"
   },
   {
    "duration": 21,
    "start_time": "2024-04-01T13:04:32.642Z"
   },
   {
    "duration": 20,
    "start_time": "2024-04-01T13:04:32.665Z"
   },
   {
    "duration": 11,
    "start_time": "2024-04-01T13:04:32.687Z"
   },
   {
    "duration": 34,
    "start_time": "2024-04-01T13:04:32.699Z"
   },
   {
    "duration": 24,
    "start_time": "2024-04-01T13:04:32.734Z"
   },
   {
    "duration": 25,
    "start_time": "2024-04-01T13:04:32.759Z"
   },
   {
    "duration": 35,
    "start_time": "2024-04-01T13:04:32.787Z"
   },
   {
    "duration": 45,
    "start_time": "2024-04-01T13:04:32.824Z"
   },
   {
    "duration": 32,
    "start_time": "2024-04-01T13:04:32.871Z"
   },
   {
    "duration": 26,
    "start_time": "2024-04-01T13:04:32.904Z"
   },
   {
    "duration": 12,
    "start_time": "2024-04-01T13:04:32.931Z"
   },
   {
    "duration": 16,
    "start_time": "2024-04-01T13:04:32.945Z"
   },
   {
    "duration": 32,
    "start_time": "2024-04-01T13:04:32.963Z"
   },
   {
    "duration": 13,
    "start_time": "2024-04-01T13:04:32.996Z"
   },
   {
    "duration": 14,
    "start_time": "2024-04-01T13:04:33.011Z"
   },
   {
    "duration": 7,
    "start_time": "2024-04-01T13:04:33.026Z"
   },
   {
    "duration": 165,
    "start_time": "2024-04-01T13:04:33.034Z"
   },
   {
    "duration": 78,
    "start_time": "2024-04-01T13:04:33.201Z"
   },
   {
    "duration": 273,
    "start_time": "2024-04-01T13:04:33.280Z"
   },
   {
    "duration": 307,
    "start_time": "2024-04-01T13:04:33.555Z"
   },
   {
    "duration": 35,
    "start_time": "2024-04-01T13:04:33.863Z"
   },
   {
    "duration": 14,
    "start_time": "2024-04-01T13:04:33.900Z"
   },
   {
    "duration": 25,
    "start_time": "2024-04-01T13:04:33.915Z"
   },
   {
    "duration": 42,
    "start_time": "2024-04-01T13:04:33.941Z"
   },
   {
    "duration": 470,
    "start_time": "2024-04-01T13:04:33.986Z"
   },
   {
    "duration": 458,
    "start_time": "2024-04-01T13:04:34.457Z"
   },
   {
    "duration": 2,
    "start_time": "2024-04-01T13:04:34.917Z"
   },
   {
    "duration": 46,
    "start_time": "2024-04-01T13:04:34.920Z"
   },
   {
    "duration": 7,
    "start_time": "2024-04-01T13:04:34.968Z"
   },
   {
    "duration": 47,
    "start_time": "2024-04-01T13:04:34.976Z"
   },
   {
    "duration": 15,
    "start_time": "2024-04-01T13:04:35.025Z"
   },
   {
    "duration": 43,
    "start_time": "2024-04-01T13:04:35.042Z"
   },
   {
    "duration": 32,
    "start_time": "2024-04-01T13:04:35.088Z"
   },
   {
    "duration": 95,
    "start_time": "2024-04-01T13:04:35.122Z"
   },
   {
    "duration": 3,
    "start_time": "2024-04-01T13:04:35.219Z"
   },
   {
    "duration": 26,
    "start_time": "2024-04-01T13:04:35.224Z"
   },
   {
    "duration": 29,
    "start_time": "2024-04-01T13:04:35.252Z"
   },
   {
    "duration": 17,
    "start_time": "2024-04-01T13:04:35.283Z"
   },
   {
    "duration": 29,
    "start_time": "2024-04-01T13:04:35.301Z"
   },
   {
    "duration": 34,
    "start_time": "2024-04-01T13:04:35.332Z"
   },
   {
    "duration": 37,
    "start_time": "2024-04-01T13:04:35.367Z"
   },
   {
    "duration": 59,
    "start_time": "2024-04-01T13:04:35.406Z"
   },
   {
    "duration": 9,
    "start_time": "2024-04-01T13:07:15.632Z"
   },
   {
    "duration": 9,
    "start_time": "2024-04-01T13:08:14.491Z"
   },
   {
    "duration": 7,
    "start_time": "2024-04-01T13:09:12.856Z"
   },
   {
    "duration": 6,
    "start_time": "2024-04-01T13:11:24.293Z"
   },
   {
    "duration": 6,
    "start_time": "2024-04-01T13:15:38.745Z"
   },
   {
    "duration": 3,
    "start_time": "2024-04-01T13:29:12.788Z"
   },
   {
    "duration": 420,
    "start_time": "2024-04-01T13:40:59.671Z"
   },
   {
    "duration": 70,
    "start_time": "2024-04-01T13:41:00.093Z"
   },
   {
    "duration": 19,
    "start_time": "2024-04-01T13:41:00.165Z"
   },
   {
    "duration": 98,
    "start_time": "2024-04-01T13:41:00.186Z"
   },
   {
    "duration": 239,
    "start_time": "2024-04-01T13:41:00.286Z"
   },
   {
    "duration": 231,
    "start_time": "2024-04-01T13:41:00.527Z"
   },
   {
    "duration": 249,
    "start_time": "2024-04-01T13:41:00.760Z"
   },
   {
    "duration": 139,
    "start_time": "2024-04-01T13:41:01.011Z"
   },
   {
    "duration": 321,
    "start_time": "2024-04-01T13:41:01.152Z"
   },
   {
    "duration": 296,
    "start_time": "2024-04-01T13:41:01.477Z"
   },
   {
    "duration": 163,
    "start_time": "2024-04-01T13:41:01.775Z"
   },
   {
    "duration": 154,
    "start_time": "2024-04-01T13:41:01.939Z"
   },
   {
    "duration": 117,
    "start_time": "2024-04-01T13:41:02.095Z"
   },
   {
    "duration": 141,
    "start_time": "2024-04-01T13:41:02.213Z"
   },
   {
    "duration": 84,
    "start_time": "2024-04-01T13:41:02.356Z"
   },
   {
    "duration": 129,
    "start_time": "2024-04-01T13:41:02.442Z"
   },
   {
    "duration": 103,
    "start_time": "2024-04-01T13:41:02.572Z"
   },
   {
    "duration": 47,
    "start_time": "2024-04-01T13:41:02.677Z"
   },
   {
    "duration": 33,
    "start_time": "2024-04-01T13:41:02.726Z"
   },
   {
    "duration": 825,
    "start_time": "2024-04-01T13:41:02.760Z"
   },
   {
    "duration": 157,
    "start_time": "2024-04-01T13:41:03.587Z"
   },
   {
    "duration": 84,
    "start_time": "2024-04-01T13:41:03.745Z"
   },
   {
    "duration": 277,
    "start_time": "2024-04-01T13:41:03.831Z"
   },
   {
    "duration": 214,
    "start_time": "2024-04-01T13:41:04.109Z"
   },
   {
    "duration": 30,
    "start_time": "2024-04-01T13:41:04.325Z"
   },
   {
    "duration": 14,
    "start_time": "2024-04-01T13:41:04.365Z"
   },
   {
    "duration": 40,
    "start_time": "2024-04-01T13:41:04.380Z"
   },
   {
    "duration": 19,
    "start_time": "2024-04-01T13:41:04.423Z"
   },
   {
    "duration": 535,
    "start_time": "2024-04-01T13:41:04.444Z"
   },
   {
    "duration": 477,
    "start_time": "2024-04-01T13:41:04.981Z"
   },
   {
    "duration": 6,
    "start_time": "2024-04-01T13:41:05.460Z"
   },
   {
    "duration": 51,
    "start_time": "2024-04-01T13:41:05.467Z"
   },
   {
    "duration": 9,
    "start_time": "2024-04-01T13:41:05.520Z"
   },
   {
    "duration": 56,
    "start_time": "2024-04-01T13:41:05.530Z"
   },
   {
    "duration": 35,
    "start_time": "2024-04-01T13:41:05.587Z"
   },
   {
    "duration": 25,
    "start_time": "2024-04-01T13:41:05.624Z"
   },
   {
    "duration": 26,
    "start_time": "2024-04-01T13:41:05.651Z"
   },
   {
    "duration": 153,
    "start_time": "2024-04-01T13:41:05.679Z"
   },
   {
    "duration": 3,
    "start_time": "2024-04-01T13:41:05.834Z"
   },
   {
    "duration": 22,
    "start_time": "2024-04-01T13:41:05.839Z"
   },
   {
    "duration": 18,
    "start_time": "2024-04-01T13:41:05.863Z"
   },
   {
    "duration": 28,
    "start_time": "2024-04-01T13:41:05.883Z"
   },
   {
    "duration": 22,
    "start_time": "2024-04-01T13:41:05.913Z"
   },
   {
    "duration": 24,
    "start_time": "2024-04-01T13:41:05.936Z"
   },
   {
    "duration": 20,
    "start_time": "2024-04-01T13:41:05.962Z"
   },
   {
    "duration": 56,
    "start_time": "2024-04-01T13:41:05.984Z"
   },
   {
    "duration": 35,
    "start_time": "2024-04-01T13:41:06.041Z"
   },
   {
    "duration": 30,
    "start_time": "2024-04-01T13:41:06.077Z"
   },
   {
    "duration": 6,
    "start_time": "2024-04-01T13:42:01.259Z"
   },
   {
    "duration": 391,
    "start_time": "2024-04-01T13:42:09.479Z"
   },
   {
    "duration": 68,
    "start_time": "2024-04-01T13:42:09.872Z"
   },
   {
    "duration": 14,
    "start_time": "2024-04-01T13:42:09.942Z"
   },
   {
    "duration": 36,
    "start_time": "2024-04-01T13:42:09.958Z"
   },
   {
    "duration": 34,
    "start_time": "2024-04-01T13:42:09.995Z"
   },
   {
    "duration": 38,
    "start_time": "2024-04-01T13:42:10.031Z"
   },
   {
    "duration": 28,
    "start_time": "2024-04-01T13:42:10.071Z"
   },
   {
    "duration": 21,
    "start_time": "2024-04-01T13:42:10.101Z"
   },
   {
    "duration": 31,
    "start_time": "2024-04-01T13:42:10.123Z"
   },
   {
    "duration": 16,
    "start_time": "2024-04-01T13:42:10.159Z"
   },
   {
    "duration": 10,
    "start_time": "2024-04-01T13:42:10.176Z"
   },
   {
    "duration": 14,
    "start_time": "2024-04-01T13:42:10.188Z"
   },
   {
    "duration": 26,
    "start_time": "2024-04-01T13:42:10.203Z"
   },
   {
    "duration": 21,
    "start_time": "2024-04-01T13:42:10.231Z"
   },
   {
    "duration": 28,
    "start_time": "2024-04-01T13:42:10.254Z"
   },
   {
    "duration": 29,
    "start_time": "2024-04-01T13:42:10.284Z"
   },
   {
    "duration": 29,
    "start_time": "2024-04-01T13:42:10.314Z"
   },
   {
    "duration": 13,
    "start_time": "2024-04-01T13:42:10.345Z"
   },
   {
    "duration": 34,
    "start_time": "2024-04-01T13:42:10.360Z"
   },
   {
    "duration": 776,
    "start_time": "2024-04-01T13:42:10.396Z"
   },
   {
    "duration": 164,
    "start_time": "2024-04-01T13:42:11.174Z"
   },
   {
    "duration": 92,
    "start_time": "2024-04-01T13:42:11.340Z"
   },
   {
    "duration": 275,
    "start_time": "2024-04-01T13:42:11.434Z"
   },
   {
    "duration": 210,
    "start_time": "2024-04-01T13:42:11.710Z"
   },
   {
    "duration": 29,
    "start_time": "2024-04-01T13:42:11.921Z"
   },
   {
    "duration": 29,
    "start_time": "2024-04-01T13:42:11.952Z"
   },
   {
    "duration": 37,
    "start_time": "2024-04-01T13:42:11.983Z"
   },
   {
    "duration": 70,
    "start_time": "2024-04-01T13:42:12.023Z"
   },
   {
    "duration": 535,
    "start_time": "2024-04-01T13:42:12.095Z"
   },
   {
    "duration": 479,
    "start_time": "2024-04-01T13:42:12.632Z"
   },
   {
    "duration": 2,
    "start_time": "2024-04-01T13:42:13.113Z"
   },
   {
    "duration": 26,
    "start_time": "2024-04-01T13:42:13.117Z"
   },
   {
    "duration": 53,
    "start_time": "2024-04-01T13:42:13.145Z"
   },
   {
    "duration": 79,
    "start_time": "2024-04-01T13:42:13.200Z"
   },
   {
    "duration": 14,
    "start_time": "2024-04-01T13:42:13.280Z"
   },
   {
    "duration": 37,
    "start_time": "2024-04-01T13:42:13.295Z"
   },
   {
    "duration": 26,
    "start_time": "2024-04-01T13:42:13.334Z"
   },
   {
    "duration": 105,
    "start_time": "2024-04-01T13:42:13.361Z"
   },
   {
    "duration": 4,
    "start_time": "2024-04-01T13:42:13.467Z"
   },
   {
    "duration": 41,
    "start_time": "2024-04-01T13:42:13.472Z"
   },
   {
    "duration": 26,
    "start_time": "2024-04-01T13:42:13.515Z"
   },
   {
    "duration": 32,
    "start_time": "2024-04-01T13:42:13.543Z"
   },
   {
    "duration": 19,
    "start_time": "2024-04-01T13:42:13.577Z"
   },
   {
    "duration": 36,
    "start_time": "2024-04-01T13:42:13.598Z"
   },
   {
    "duration": 25,
    "start_time": "2024-04-01T13:42:13.636Z"
   },
   {
    "duration": 28,
    "start_time": "2024-04-01T13:42:13.663Z"
   },
   {
    "duration": 18,
    "start_time": "2024-04-01T13:42:13.692Z"
   },
   {
    "duration": 19,
    "start_time": "2024-04-01T13:42:13.712Z"
   },
   {
    "duration": 5,
    "start_time": "2024-04-01T13:43:25.091Z"
   },
   {
    "duration": 377,
    "start_time": "2024-04-01T13:43:36.610Z"
   },
   {
    "duration": 69,
    "start_time": "2024-04-01T13:43:36.989Z"
   },
   {
    "duration": 15,
    "start_time": "2024-04-01T13:43:37.060Z"
   },
   {
    "duration": 42,
    "start_time": "2024-04-01T13:43:37.076Z"
   },
   {
    "duration": 37,
    "start_time": "2024-04-01T13:43:37.120Z"
   },
   {
    "duration": 26,
    "start_time": "2024-04-01T13:43:37.158Z"
   },
   {
    "duration": 20,
    "start_time": "2024-04-01T13:43:37.186Z"
   },
   {
    "duration": 27,
    "start_time": "2024-04-01T13:43:37.208Z"
   },
   {
    "duration": 36,
    "start_time": "2024-04-01T13:43:37.236Z"
   },
   {
    "duration": 27,
    "start_time": "2024-04-01T13:43:37.276Z"
   },
   {
    "duration": 30,
    "start_time": "2024-04-01T13:43:37.304Z"
   },
   {
    "duration": 29,
    "start_time": "2024-04-01T13:43:37.336Z"
   },
   {
    "duration": 23,
    "start_time": "2024-04-01T13:43:37.367Z"
   },
   {
    "duration": 32,
    "start_time": "2024-04-01T13:43:37.391Z"
   },
   {
    "duration": 27,
    "start_time": "2024-04-01T13:43:37.424Z"
   },
   {
    "duration": 24,
    "start_time": "2024-04-01T13:43:37.453Z"
   },
   {
    "duration": 21,
    "start_time": "2024-04-01T13:43:37.479Z"
   },
   {
    "duration": 31,
    "start_time": "2024-04-01T13:43:37.502Z"
   },
   {
    "duration": 32,
    "start_time": "2024-04-01T13:43:37.535Z"
   },
   {
    "duration": 706,
    "start_time": "2024-04-01T13:43:37.568Z"
   },
   {
    "duration": 158,
    "start_time": "2024-04-01T13:43:38.276Z"
   },
   {
    "duration": 86,
    "start_time": "2024-04-01T13:43:38.435Z"
   },
   {
    "duration": 266,
    "start_time": "2024-04-01T13:43:38.523Z"
   },
   {
    "duration": 198,
    "start_time": "2024-04-01T13:43:38.791Z"
   },
   {
    "duration": 29,
    "start_time": "2024-04-01T13:43:38.990Z"
   },
   {
    "duration": 13,
    "start_time": "2024-04-01T13:43:39.020Z"
   },
   {
    "duration": 41,
    "start_time": "2024-04-01T13:43:39.035Z"
   },
   {
    "duration": 19,
    "start_time": "2024-04-01T13:43:39.079Z"
   },
   {
    "duration": 545,
    "start_time": "2024-04-01T13:43:39.100Z"
   },
   {
    "duration": 459,
    "start_time": "2024-04-01T13:43:39.647Z"
   },
   {
    "duration": 2,
    "start_time": "2024-04-01T13:43:40.108Z"
   },
   {
    "duration": 21,
    "start_time": "2024-04-01T13:43:40.112Z"
   },
   {
    "duration": 6,
    "start_time": "2024-04-01T13:43:40.135Z"
   },
   {
    "duration": 39,
    "start_time": "2024-04-01T13:43:40.143Z"
   },
   {
    "duration": 13,
    "start_time": "2024-04-01T13:43:40.183Z"
   },
   {
    "duration": 9,
    "start_time": "2024-04-01T13:43:40.197Z"
   },
   {
    "duration": 14,
    "start_time": "2024-04-01T13:43:40.207Z"
   },
   {
    "duration": 83,
    "start_time": "2024-04-01T13:43:40.222Z"
   },
   {
    "duration": 4,
    "start_time": "2024-04-01T13:43:40.306Z"
   },
   {
    "duration": 17,
    "start_time": "2024-04-01T13:43:40.312Z"
   },
   {
    "duration": 24,
    "start_time": "2024-04-01T13:43:40.331Z"
   },
   {
    "duration": 8,
    "start_time": "2024-04-01T13:43:40.357Z"
   },
   {
    "duration": 9,
    "start_time": "2024-04-01T13:43:40.366Z"
   },
   {
    "duration": 12,
    "start_time": "2024-04-01T13:43:40.377Z"
   },
   {
    "duration": 7,
    "start_time": "2024-04-01T13:43:40.391Z"
   },
   {
    "duration": 15,
    "start_time": "2024-04-01T13:43:40.399Z"
   },
   {
    "duration": 21,
    "start_time": "2024-04-01T13:43:40.415Z"
   },
   {
    "duration": 36,
    "start_time": "2024-04-01T13:43:40.438Z"
   },
   {
    "duration": 402,
    "start_time": "2024-04-01T15:01:40.204Z"
   },
   {
    "duration": 66,
    "start_time": "2024-04-01T15:01:40.609Z"
   },
   {
    "duration": 15,
    "start_time": "2024-04-01T15:01:40.677Z"
   },
   {
    "duration": 12,
    "start_time": "2024-04-01T15:01:40.694Z"
   },
   {
    "duration": 19,
    "start_time": "2024-04-01T15:01:40.708Z"
   },
   {
    "duration": 21,
    "start_time": "2024-04-01T15:01:40.729Z"
   },
   {
    "duration": 10,
    "start_time": "2024-04-01T15:01:40.751Z"
   },
   {
    "duration": 27,
    "start_time": "2024-04-01T15:01:40.763Z"
   },
   {
    "duration": 22,
    "start_time": "2024-04-01T15:01:40.792Z"
   },
   {
    "duration": 11,
    "start_time": "2024-04-01T15:01:40.816Z"
   },
   {
    "duration": 5,
    "start_time": "2024-04-01T15:01:40.829Z"
   },
   {
    "duration": 9,
    "start_time": "2024-04-01T15:01:40.835Z"
   },
   {
    "duration": 10,
    "start_time": "2024-04-01T15:01:40.845Z"
   },
   {
    "duration": 31,
    "start_time": "2024-04-01T15:01:40.859Z"
   },
   {
    "duration": 8,
    "start_time": "2024-04-01T15:01:40.892Z"
   },
   {
    "duration": 14,
    "start_time": "2024-04-01T15:01:40.902Z"
   },
   {
    "duration": 9,
    "start_time": "2024-04-01T15:01:40.917Z"
   },
   {
    "duration": 6,
    "start_time": "2024-04-01T15:01:40.928Z"
   },
   {
    "duration": 9,
    "start_time": "2024-04-01T15:01:40.936Z"
   },
   {
    "duration": 765,
    "start_time": "2024-04-01T15:01:40.946Z"
   },
   {
    "duration": 162,
    "start_time": "2024-04-01T15:01:41.713Z"
   },
   {
    "duration": 92,
    "start_time": "2024-04-01T15:01:41.876Z"
   },
   {
    "duration": 295,
    "start_time": "2024-04-01T15:01:41.969Z"
   },
   {
    "duration": 215,
    "start_time": "2024-04-01T15:01:42.265Z"
   },
   {
    "duration": 30,
    "start_time": "2024-04-01T15:01:42.487Z"
   },
   {
    "duration": 14,
    "start_time": "2024-04-01T15:01:42.518Z"
   },
   {
    "duration": 22,
    "start_time": "2024-04-01T15:01:42.533Z"
   },
   {
    "duration": 42,
    "start_time": "2024-04-01T15:01:42.556Z"
   },
   {
    "duration": 566,
    "start_time": "2024-04-01T15:01:42.599Z"
   },
   {
    "duration": 529,
    "start_time": "2024-04-01T15:01:43.167Z"
   },
   {
    "duration": 3,
    "start_time": "2024-04-01T15:01:43.698Z"
   },
   {
    "duration": 11,
    "start_time": "2024-04-01T15:01:43.702Z"
   },
   {
    "duration": 3,
    "start_time": "2024-04-01T15:01:43.715Z"
   },
   {
    "duration": 37,
    "start_time": "2024-04-01T15:01:43.720Z"
   },
   {
    "duration": 34,
    "start_time": "2024-04-01T15:01:43.758Z"
   },
   {
    "duration": 7,
    "start_time": "2024-04-01T15:01:43.794Z"
   },
   {
    "duration": 11,
    "start_time": "2024-04-01T15:01:43.802Z"
   },
   {
    "duration": 95,
    "start_time": "2024-04-01T15:01:43.815Z"
   },
   {
    "duration": 5,
    "start_time": "2024-04-01T15:01:43.912Z"
   },
   {
    "duration": 9,
    "start_time": "2024-04-01T15:01:43.918Z"
   },
   {
    "duration": 16,
    "start_time": "2024-04-01T15:01:43.932Z"
   },
   {
    "duration": 9,
    "start_time": "2024-04-01T15:01:43.950Z"
   },
   {
    "duration": 30,
    "start_time": "2024-04-01T15:01:43.960Z"
   },
   {
    "duration": 33,
    "start_time": "2024-04-01T15:01:43.992Z"
   },
   {
    "duration": 44,
    "start_time": "2024-04-01T15:01:44.027Z"
   },
   {
    "duration": 15,
    "start_time": "2024-04-01T15:01:44.073Z"
   },
   {
    "duration": 21,
    "start_time": "2024-04-01T15:01:44.090Z"
   },
   {
    "duration": 6,
    "start_time": "2024-04-01T15:01:44.113Z"
   },
   {
    "duration": 20,
    "start_time": "2024-04-01T15:04:39.199Z"
   },
   {
    "duration": 11,
    "start_time": "2024-04-01T15:04:40.541Z"
   },
   {
    "duration": 6,
    "start_time": "2024-04-01T15:05:26.487Z"
   },
   {
    "duration": 8,
    "start_time": "2024-04-01T15:05:27.662Z"
   },
   {
    "duration": 7,
    "start_time": "2024-04-01T15:05:50.677Z"
   },
   {
    "duration": 6,
    "start_time": "2024-04-01T15:05:52.711Z"
   },
   {
    "duration": 49,
    "start_time": "2024-04-02T06:57:26.040Z"
   },
   {
    "duration": 1309,
    "start_time": "2024-04-02T06:57:32.809Z"
   },
   {
    "duration": 216,
    "start_time": "2024-04-02T06:57:34.120Z"
   },
   {
    "duration": 12,
    "start_time": "2024-04-02T06:57:34.337Z"
   },
   {
    "duration": 11,
    "start_time": "2024-04-02T06:57:34.351Z"
   },
   {
    "duration": 25,
    "start_time": "2024-04-02T06:57:34.363Z"
   },
   {
    "duration": 16,
    "start_time": "2024-04-02T06:57:34.389Z"
   },
   {
    "duration": 6,
    "start_time": "2024-04-02T06:57:34.407Z"
   },
   {
    "duration": 25,
    "start_time": "2024-04-02T06:57:34.414Z"
   },
   {
    "duration": 23,
    "start_time": "2024-04-02T06:57:34.441Z"
   },
   {
    "duration": 10,
    "start_time": "2024-04-02T06:57:34.467Z"
   },
   {
    "duration": 4,
    "start_time": "2024-04-02T06:57:34.478Z"
   },
   {
    "duration": 7,
    "start_time": "2024-04-02T06:57:34.483Z"
   },
   {
    "duration": 16,
    "start_time": "2024-04-02T06:57:34.491Z"
   },
   {
    "duration": 14,
    "start_time": "2024-04-02T06:57:34.508Z"
   },
   {
    "duration": 4,
    "start_time": "2024-04-02T06:57:34.523Z"
   },
   {
    "duration": 11,
    "start_time": "2024-04-02T06:57:34.529Z"
   },
   {
    "duration": 8,
    "start_time": "2024-04-02T06:57:34.542Z"
   },
   {
    "duration": 7,
    "start_time": "2024-04-02T06:57:34.552Z"
   },
   {
    "duration": 5,
    "start_time": "2024-04-02T06:57:34.560Z"
   },
   {
    "duration": 4,
    "start_time": "2024-04-02T06:57:34.567Z"
   },
   {
    "duration": 192,
    "start_time": "2024-04-02T06:57:34.573Z"
   },
   {
    "duration": 93,
    "start_time": "2024-04-02T06:57:34.767Z"
   },
   {
    "duration": 263,
    "start_time": "2024-04-02T06:57:34.862Z"
   },
   {
    "duration": 212,
    "start_time": "2024-04-02T06:57:35.126Z"
   },
   {
    "duration": 29,
    "start_time": "2024-04-02T06:57:35.340Z"
   },
   {
    "duration": 14,
    "start_time": "2024-04-02T06:57:35.370Z"
   },
   {
    "duration": 40,
    "start_time": "2024-04-02T06:57:35.385Z"
   },
   {
    "duration": 20,
    "start_time": "2024-04-02T06:57:35.428Z"
   },
   {
    "duration": 782,
    "start_time": "2024-04-02T06:57:35.449Z"
   },
   {
    "duration": 899,
    "start_time": "2024-04-02T06:57:36.233Z"
   },
   {
    "duration": 6,
    "start_time": "2024-04-02T06:57:37.134Z"
   },
   {
    "duration": 9,
    "start_time": "2024-04-02T06:57:37.142Z"
   },
   {
    "duration": 35,
    "start_time": "2024-04-02T06:57:37.152Z"
   },
   {
    "duration": 13,
    "start_time": "2024-04-02T06:57:37.189Z"
   },
   {
    "duration": 6,
    "start_time": "2024-04-02T06:57:37.218Z"
   },
   {
    "duration": 13,
    "start_time": "2024-04-02T06:57:37.225Z"
   },
   {
    "duration": 85,
    "start_time": "2024-04-02T06:57:37.239Z"
   },
   {
    "duration": 4,
    "start_time": "2024-04-02T06:57:37.326Z"
   },
   {
    "duration": 10,
    "start_time": "2024-04-02T06:57:37.332Z"
   },
   {
    "duration": 16,
    "start_time": "2024-04-02T06:57:37.344Z"
   },
   {
    "duration": 10,
    "start_time": "2024-04-02T06:57:37.362Z"
   },
   {
    "duration": 8,
    "start_time": "2024-04-02T06:57:37.374Z"
   },
   {
    "duration": 18,
    "start_time": "2024-04-02T06:57:37.383Z"
   },
   {
    "duration": 24,
    "start_time": "2024-04-02T06:57:37.402Z"
   },
   {
    "duration": 8,
    "start_time": "2024-04-02T06:57:37.428Z"
   },
   {
    "duration": 7,
    "start_time": "2024-04-02T06:57:37.438Z"
   },
   {
    "duration": 7,
    "start_time": "2024-04-02T06:58:59.579Z"
   },
   {
    "duration": 63,
    "start_time": "2024-04-02T07:07:39.769Z"
   },
   {
    "duration": 9,
    "start_time": "2024-04-02T07:07:48.222Z"
   },
   {
    "duration": 12,
    "start_time": "2024-04-02T07:08:26.185Z"
   },
   {
    "duration": 10,
    "start_time": "2024-04-02T07:08:43.050Z"
   },
   {
    "duration": 9,
    "start_time": "2024-04-02T07:08:48.374Z"
   },
   {
    "duration": 10,
    "start_time": "2024-04-02T07:09:51.288Z"
   },
   {
    "duration": 9,
    "start_time": "2024-04-02T07:10:28.680Z"
   },
   {
    "duration": 10,
    "start_time": "2024-04-02T07:11:01.280Z"
   },
   {
    "duration": 934,
    "start_time": "2024-04-02T07:11:10.925Z"
   },
   {
    "duration": 10,
    "start_time": "2024-04-02T07:11:25.412Z"
   },
   {
    "duration": 14,
    "start_time": "2024-04-02T07:12:21.334Z"
   },
   {
    "duration": 1088,
    "start_time": "2024-04-02T07:12:39.405Z"
   },
   {
    "duration": 1292,
    "start_time": "2024-04-02T07:13:52.656Z"
   },
   {
    "duration": 13,
    "start_time": "2024-04-02T07:14:17.018Z"
   },
   {
    "duration": 1062,
    "start_time": "2024-04-02T07:15:06.162Z"
   },
   {
    "duration": 143,
    "start_time": "2024-04-02T07:15:56.712Z"
   },
   {
    "duration": 4,
    "start_time": "2024-04-02T07:20:29.855Z"
   },
   {
    "duration": 6,
    "start_time": "2024-04-02T07:20:49.177Z"
   },
   {
    "duration": 4,
    "start_time": "2024-04-02T07:21:00.991Z"
   },
   {
    "duration": 12,
    "start_time": "2024-04-02T07:21:08.937Z"
   },
   {
    "duration": 6,
    "start_time": "2024-04-02T07:21:20.752Z"
   },
   {
    "duration": 956,
    "start_time": "2024-04-02T07:23:16.734Z"
   },
   {
    "duration": 153,
    "start_time": "2024-04-02T07:23:28.617Z"
   },
   {
    "duration": 154,
    "start_time": "2024-04-02T07:24:02.713Z"
   },
   {
    "duration": 146,
    "start_time": "2024-04-02T07:24:45.677Z"
   },
   {
    "duration": 130,
    "start_time": "2024-04-02T07:25:01.850Z"
   },
   {
    "duration": 193,
    "start_time": "2024-04-02T07:25:36.949Z"
   },
   {
    "duration": 128,
    "start_time": "2024-04-02T07:27:55.913Z"
   },
   {
    "duration": 139,
    "start_time": "2024-04-02T07:33:39.601Z"
   },
   {
    "duration": 139,
    "start_time": "2024-04-02T07:34:34.597Z"
   },
   {
    "duration": 138,
    "start_time": "2024-04-02T07:35:07.672Z"
   },
   {
    "duration": 80,
    "start_time": "2024-04-02T07:35:19.967Z"
   },
   {
    "duration": 422,
    "start_time": "2024-04-02T07:41:47.411Z"
   },
   {
    "duration": 239,
    "start_time": "2024-04-02T07:42:25.293Z"
   },
   {
    "duration": 249,
    "start_time": "2024-04-02T07:44:54.419Z"
   },
   {
    "duration": 260,
    "start_time": "2024-04-02T07:45:16.647Z"
   },
   {
    "duration": 282,
    "start_time": "2024-04-02T07:49:22.723Z"
   },
   {
    "duration": 291,
    "start_time": "2024-04-02T07:49:31.555Z"
   },
   {
    "duration": 302,
    "start_time": "2024-04-02T07:49:37.483Z"
   },
   {
    "duration": 355,
    "start_time": "2024-04-02T07:49:45.158Z"
   },
   {
    "duration": 276,
    "start_time": "2024-04-02T07:50:21.187Z"
   },
   {
    "duration": 60,
    "start_time": "2024-04-02T07:50:51.310Z"
   },
   {
    "duration": 330,
    "start_time": "2024-04-02T07:51:36.788Z"
   },
   {
    "duration": 356,
    "start_time": "2024-04-02T07:51:42.223Z"
   },
   {
    "duration": 417,
    "start_time": "2024-04-02T07:51:47.010Z"
   },
   {
    "duration": 364,
    "start_time": "2024-04-02T07:51:54.841Z"
   },
   {
    "duration": 278,
    "start_time": "2024-04-02T07:53:06.672Z"
   },
   {
    "duration": 145,
    "start_time": "2024-04-02T07:53:58.802Z"
   },
   {
    "duration": 161,
    "start_time": "2024-04-02T07:54:05.890Z"
   },
   {
    "duration": 7,
    "start_time": "2024-04-02T07:57:15.276Z"
   },
   {
    "duration": 3,
    "start_time": "2024-04-02T07:57:22.444Z"
   },
   {
    "duration": 10,
    "start_time": "2024-04-02T07:57:47.349Z"
   },
   {
    "duration": 4,
    "start_time": "2024-04-02T07:58:07.617Z"
   },
   {
    "duration": 4,
    "start_time": "2024-04-02T07:58:15.720Z"
   },
   {
    "duration": 4,
    "start_time": "2024-04-02T07:58:21.918Z"
   },
   {
    "duration": 4,
    "start_time": "2024-04-02T07:58:39.925Z"
   },
   {
    "duration": 3,
    "start_time": "2024-04-02T07:58:43.329Z"
   },
   {
    "duration": 4,
    "start_time": "2024-04-02T07:59:15.933Z"
   },
   {
    "duration": 3,
    "start_time": "2024-04-02T08:01:55.763Z"
   },
   {
    "duration": 65,
    "start_time": "2024-04-02T08:02:10.720Z"
   },
   {
    "duration": 3,
    "start_time": "2024-04-02T08:07:16.734Z"
   },
   {
    "duration": 75,
    "start_time": "2024-04-02T08:07:16.766Z"
   },
   {
    "duration": 8,
    "start_time": "2024-04-02T08:07:16.843Z"
   },
   {
    "duration": 11,
    "start_time": "2024-04-02T08:07:16.853Z"
   },
   {
    "duration": 28,
    "start_time": "2024-04-02T08:07:16.866Z"
   },
   {
    "duration": 32,
    "start_time": "2024-04-02T08:07:16.896Z"
   },
   {
    "duration": 9,
    "start_time": "2024-04-02T08:07:16.930Z"
   },
   {
    "duration": 18,
    "start_time": "2024-04-02T08:07:16.941Z"
   },
   {
    "duration": 23,
    "start_time": "2024-04-02T08:07:16.962Z"
   },
   {
    "duration": 35,
    "start_time": "2024-04-02T08:07:16.987Z"
   },
   {
    "duration": 9,
    "start_time": "2024-04-02T08:07:17.026Z"
   },
   {
    "duration": 8,
    "start_time": "2024-04-02T08:07:17.037Z"
   },
   {
    "duration": 5,
    "start_time": "2024-04-02T08:07:17.046Z"
   },
   {
    "duration": 11,
    "start_time": "2024-04-02T08:07:17.052Z"
   },
   {
    "duration": 6,
    "start_time": "2024-04-02T08:07:17.064Z"
   },
   {
    "duration": 47,
    "start_time": "2024-04-02T08:07:17.071Z"
   },
   {
    "duration": 8,
    "start_time": "2024-04-02T08:07:17.119Z"
   },
   {
    "duration": 5,
    "start_time": "2024-04-02T08:07:17.128Z"
   },
   {
    "duration": 5,
    "start_time": "2024-04-02T08:07:17.135Z"
   },
   {
    "duration": 170,
    "start_time": "2024-04-02T08:07:17.141Z"
   },
   {
    "duration": 9,
    "start_time": "2024-04-02T08:07:17.313Z"
   },
   {
    "duration": 226,
    "start_time": "2024-04-02T08:07:17.324Z"
   },
   {
    "duration": 91,
    "start_time": "2024-04-02T08:07:17.551Z"
   },
   {
    "duration": 295,
    "start_time": "2024-04-02T08:07:17.644Z"
   },
   {
    "duration": 398,
    "start_time": "2024-04-02T08:07:17.940Z"
   },
   {
    "duration": 322,
    "start_time": "2024-04-02T08:07:18.339Z"
   },
   {
    "duration": 3,
    "start_time": "2024-04-02T08:07:18.664Z"
   },
   {
    "duration": 37,
    "start_time": "2024-04-02T08:07:18.668Z"
   },
   {
    "duration": 17,
    "start_time": "2024-04-02T08:07:18.706Z"
   },
   {
    "duration": 4,
    "start_time": "2024-04-02T08:07:18.724Z"
   },
   {
    "duration": 37,
    "start_time": "2024-04-02T08:07:18.729Z"
   },
   {
    "duration": 96,
    "start_time": "2024-04-02T08:07:18.767Z"
   },
   {
    "duration": 435,
    "start_time": "2024-04-02T08:07:18.864Z"
   },
   {
    "duration": 476,
    "start_time": "2024-04-02T08:07:19.300Z"
   },
   {
    "duration": 7,
    "start_time": "2024-04-02T08:07:19.778Z"
   },
   {
    "duration": 14,
    "start_time": "2024-04-02T08:07:19.786Z"
   },
   {
    "duration": 23,
    "start_time": "2024-04-02T08:07:19.801Z"
   },
   {
    "duration": 46,
    "start_time": "2024-04-02T08:07:19.826Z"
   },
   {
    "duration": 13,
    "start_time": "2024-04-02T08:07:19.873Z"
   },
   {
    "duration": 41,
    "start_time": "2024-04-02T08:07:19.888Z"
   },
   {
    "duration": 41,
    "start_time": "2024-04-02T08:07:19.931Z"
   },
   {
    "duration": 88,
    "start_time": "2024-04-02T08:07:19.974Z"
   },
   {
    "duration": 2,
    "start_time": "2024-04-02T08:07:20.063Z"
   },
   {
    "duration": 18,
    "start_time": "2024-04-02T08:07:20.066Z"
   },
   {
    "duration": 21,
    "start_time": "2024-04-02T08:07:20.086Z"
   },
   {
    "duration": 15,
    "start_time": "2024-04-02T08:07:20.108Z"
   },
   {
    "duration": 18,
    "start_time": "2024-04-02T08:07:20.124Z"
   },
   {
    "duration": 24,
    "start_time": "2024-04-02T08:07:20.144Z"
   },
   {
    "duration": 38,
    "start_time": "2024-04-02T08:07:20.169Z"
   },
   {
    "duration": 17,
    "start_time": "2024-04-02T08:07:20.209Z"
   },
   {
    "duration": 21,
    "start_time": "2024-04-02T08:07:20.228Z"
   },
   {
    "duration": 78,
    "start_time": "2024-04-02T08:09:48.919Z"
   },
   {
    "duration": 4,
    "start_time": "2024-04-02T08:10:08.891Z"
   },
   {
    "duration": 8,
    "start_time": "2024-04-02T08:19:15.895Z"
   },
   {
    "duration": 66,
    "start_time": "2024-04-02T08:23:05.650Z"
   },
   {
    "duration": 1089,
    "start_time": "2024-04-02T08:34:12.874Z"
   },
   {
    "duration": 69,
    "start_time": "2024-04-02T08:34:13.965Z"
   },
   {
    "duration": 11,
    "start_time": "2024-04-02T08:34:14.035Z"
   },
   {
    "duration": 11,
    "start_time": "2024-04-02T08:34:14.048Z"
   },
   {
    "duration": 20,
    "start_time": "2024-04-02T08:34:14.061Z"
   },
   {
    "duration": 13,
    "start_time": "2024-04-02T08:34:14.083Z"
   },
   {
    "duration": 7,
    "start_time": "2024-04-02T08:34:14.097Z"
   },
   {
    "duration": 17,
    "start_time": "2024-04-02T08:34:14.105Z"
   },
   {
    "duration": 14,
    "start_time": "2024-04-02T08:34:14.123Z"
   },
   {
    "duration": 10,
    "start_time": "2024-04-02T08:34:14.139Z"
   },
   {
    "duration": 6,
    "start_time": "2024-04-02T08:34:14.151Z"
   },
   {
    "duration": 9,
    "start_time": "2024-04-02T08:34:14.158Z"
   },
   {
    "duration": 5,
    "start_time": "2024-04-02T08:34:14.168Z"
   },
   {
    "duration": 10,
    "start_time": "2024-04-02T08:34:14.174Z"
   },
   {
    "duration": 32,
    "start_time": "2024-04-02T08:34:14.186Z"
   },
   {
    "duration": 11,
    "start_time": "2024-04-02T08:34:14.220Z"
   },
   {
    "duration": 8,
    "start_time": "2024-04-02T08:34:14.232Z"
   },
   {
    "duration": 5,
    "start_time": "2024-04-02T08:34:14.241Z"
   },
   {
    "duration": 4,
    "start_time": "2024-04-02T08:34:14.247Z"
   },
   {
    "duration": 176,
    "start_time": "2024-04-02T08:34:14.253Z"
   },
   {
    "duration": 6,
    "start_time": "2024-04-02T08:34:14.430Z"
   },
   {
    "duration": 151,
    "start_time": "2024-04-02T08:34:14.437Z"
   },
   {
    "duration": 79,
    "start_time": "2024-04-02T08:34:14.590Z"
   },
   {
    "duration": 277,
    "start_time": "2024-04-02T08:34:14.671Z"
   },
   {
    "duration": 461,
    "start_time": "2024-04-02T08:34:14.949Z"
   },
   {
    "duration": 305,
    "start_time": "2024-04-02T08:34:15.412Z"
   },
   {
    "duration": 4,
    "start_time": "2024-04-02T08:34:15.719Z"
   },
   {
    "duration": 34,
    "start_time": "2024-04-02T08:34:15.726Z"
   },
   {
    "duration": 14,
    "start_time": "2024-04-02T08:34:15.762Z"
   },
   {
    "duration": 5,
    "start_time": "2024-04-02T08:34:15.777Z"
   },
   {
    "duration": 48,
    "start_time": "2024-04-02T08:34:15.783Z"
   },
   {
    "duration": 19,
    "start_time": "2024-04-02T08:34:15.833Z"
   },
   {
    "duration": 456,
    "start_time": "2024-04-02T08:34:15.854Z"
   },
   {
    "duration": 521,
    "start_time": "2024-04-02T08:34:16.311Z"
   },
   {
    "duration": 6,
    "start_time": "2024-04-02T08:34:16.834Z"
   },
   {
    "duration": 3,
    "start_time": "2024-04-02T08:34:16.842Z"
   },
   {
    "duration": 4,
    "start_time": "2024-04-02T08:34:16.846Z"
   },
   {
    "duration": 30,
    "start_time": "2024-04-02T08:34:16.851Z"
   },
   {
    "duration": 35,
    "start_time": "2024-04-02T08:34:16.883Z"
   },
   {
    "duration": 4,
    "start_time": "2024-04-02T08:34:16.920Z"
   },
   {
    "duration": 12,
    "start_time": "2024-04-02T08:34:16.925Z"
   },
   {
    "duration": 86,
    "start_time": "2024-04-02T08:34:16.938Z"
   },
   {
    "duration": 3,
    "start_time": "2024-04-02T08:34:17.025Z"
   },
   {
    "duration": 9,
    "start_time": "2024-04-02T08:34:17.029Z"
   },
   {
    "duration": 12,
    "start_time": "2024-04-02T08:34:17.039Z"
   },
   {
    "duration": 4,
    "start_time": "2024-04-02T08:34:17.052Z"
   },
   {
    "duration": 6,
    "start_time": "2024-04-02T08:34:17.057Z"
   },
   {
    "duration": 5,
    "start_time": "2024-04-02T08:34:17.065Z"
   },
   {
    "duration": 6,
    "start_time": "2024-04-02T08:34:17.071Z"
   },
   {
    "duration": 0,
    "start_time": "2024-04-02T08:34:17.078Z"
   },
   {
    "duration": 0,
    "start_time": "2024-04-02T08:34:17.079Z"
   },
   {
    "duration": 0,
    "start_time": "2024-04-02T08:34:17.080Z"
   },
   {
    "duration": 1121,
    "start_time": "2024-04-02T08:34:42.984Z"
   },
   {
    "duration": 68,
    "start_time": "2024-04-02T08:34:44.107Z"
   },
   {
    "duration": 11,
    "start_time": "2024-04-02T08:34:44.177Z"
   },
   {
    "duration": 10,
    "start_time": "2024-04-02T08:34:44.191Z"
   },
   {
    "duration": 9,
    "start_time": "2024-04-02T08:34:44.203Z"
   },
   {
    "duration": 11,
    "start_time": "2024-04-02T08:34:44.214Z"
   },
   {
    "duration": 7,
    "start_time": "2024-04-02T08:34:44.226Z"
   },
   {
    "duration": 13,
    "start_time": "2024-04-02T08:34:44.234Z"
   },
   {
    "duration": 14,
    "start_time": "2024-04-02T08:34:44.249Z"
   },
   {
    "duration": 10,
    "start_time": "2024-04-02T08:34:44.265Z"
   },
   {
    "duration": 6,
    "start_time": "2024-04-02T08:34:44.277Z"
   },
   {
    "duration": 34,
    "start_time": "2024-04-02T08:34:44.284Z"
   },
   {
    "duration": 5,
    "start_time": "2024-04-02T08:34:44.319Z"
   },
   {
    "duration": 7,
    "start_time": "2024-04-02T08:34:44.326Z"
   },
   {
    "duration": 3,
    "start_time": "2024-04-02T08:34:44.335Z"
   },
   {
    "duration": 5,
    "start_time": "2024-04-02T08:34:44.340Z"
   },
   {
    "duration": 7,
    "start_time": "2024-04-02T08:34:44.347Z"
   },
   {
    "duration": 5,
    "start_time": "2024-04-02T08:34:44.355Z"
   },
   {
    "duration": 5,
    "start_time": "2024-04-02T08:34:44.361Z"
   },
   {
    "duration": 189,
    "start_time": "2024-04-02T08:34:44.367Z"
   },
   {
    "duration": 5,
    "start_time": "2024-04-02T08:34:44.557Z"
   },
   {
    "duration": 138,
    "start_time": "2024-04-02T08:34:44.564Z"
   },
   {
    "duration": 93,
    "start_time": "2024-04-02T08:34:44.703Z"
   },
   {
    "duration": 308,
    "start_time": "2024-04-02T08:34:44.798Z"
   },
   {
    "duration": 428,
    "start_time": "2024-04-02T08:34:45.107Z"
   },
   {
    "duration": 307,
    "start_time": "2024-04-02T08:34:45.536Z"
   },
   {
    "duration": 4,
    "start_time": "2024-04-02T08:34:45.844Z"
   },
   {
    "duration": 31,
    "start_time": "2024-04-02T08:34:45.852Z"
   },
   {
    "duration": 40,
    "start_time": "2024-04-02T08:34:45.884Z"
   },
   {
    "duration": 5,
    "start_time": "2024-04-02T08:34:45.925Z"
   },
   {
    "duration": 24,
    "start_time": "2024-04-02T08:34:45.931Z"
   },
   {
    "duration": 20,
    "start_time": "2024-04-02T08:34:45.957Z"
   },
   {
    "duration": 478,
    "start_time": "2024-04-02T08:34:45.978Z"
   },
   {
    "duration": 527,
    "start_time": "2024-04-02T08:34:46.458Z"
   },
   {
    "duration": 6,
    "start_time": "2024-04-02T08:34:46.986Z"
   },
   {
    "duration": 3,
    "start_time": "2024-04-02T08:34:46.994Z"
   },
   {
    "duration": 19,
    "start_time": "2024-04-02T08:34:46.999Z"
   },
   {
    "duration": 35,
    "start_time": "2024-04-02T08:34:47.020Z"
   },
   {
    "duration": 12,
    "start_time": "2024-04-02T08:34:47.057Z"
   },
   {
    "duration": 6,
    "start_time": "2024-04-02T08:34:47.070Z"
   },
   {
    "duration": 10,
    "start_time": "2024-04-02T08:34:47.077Z"
   },
   {
    "duration": 85,
    "start_time": "2024-04-02T08:34:47.088Z"
   },
   {
    "duration": 3,
    "start_time": "2024-04-02T08:34:47.174Z"
   },
   {
    "duration": 9,
    "start_time": "2024-04-02T08:34:47.178Z"
   },
   {
    "duration": 14,
    "start_time": "2024-04-02T08:34:47.188Z"
   },
   {
    "duration": 14,
    "start_time": "2024-04-02T08:34:47.203Z"
   },
   {
    "duration": 6,
    "start_time": "2024-04-02T08:34:47.219Z"
   },
   {
    "duration": 5,
    "start_time": "2024-04-02T08:34:47.227Z"
   },
   {
    "duration": 15,
    "start_time": "2024-04-02T08:34:47.233Z"
   },
   {
    "duration": 8,
    "start_time": "2024-04-02T08:34:47.249Z"
   },
   {
    "duration": 26,
    "start_time": "2024-04-02T08:34:47.259Z"
   },
   {
    "duration": 1351,
    "start_time": "2024-04-02T11:21:23.473Z"
   },
   {
    "duration": 1131,
    "start_time": "2024-04-02T11:21:37.273Z"
   },
   {
    "duration": 69,
    "start_time": "2024-04-02T11:21:38.406Z"
   },
   {
    "duration": 12,
    "start_time": "2024-04-02T11:21:38.476Z"
   },
   {
    "duration": 14,
    "start_time": "2024-04-02T11:21:38.490Z"
   },
   {
    "duration": 24,
    "start_time": "2024-04-02T11:21:38.505Z"
   },
   {
    "duration": 12,
    "start_time": "2024-04-02T11:21:38.531Z"
   },
   {
    "duration": 7,
    "start_time": "2024-04-02T11:21:38.545Z"
   },
   {
    "duration": 24,
    "start_time": "2024-04-02T11:21:38.553Z"
   },
   {
    "duration": 34,
    "start_time": "2024-04-02T11:21:38.579Z"
   },
   {
    "duration": 11,
    "start_time": "2024-04-02T11:21:38.616Z"
   },
   {
    "duration": 8,
    "start_time": "2024-04-02T11:21:38.629Z"
   },
   {
    "duration": 7,
    "start_time": "2024-04-02T11:21:38.638Z"
   },
   {
    "duration": 12,
    "start_time": "2024-04-02T11:21:38.646Z"
   },
   {
    "duration": 10,
    "start_time": "2024-04-02T11:21:38.665Z"
   },
   {
    "duration": 4,
    "start_time": "2024-04-02T11:21:38.677Z"
   },
   {
    "duration": 27,
    "start_time": "2024-04-02T11:21:38.683Z"
   },
   {
    "duration": 7,
    "start_time": "2024-04-02T11:21:38.712Z"
   },
   {
    "duration": 21,
    "start_time": "2024-04-02T11:21:38.721Z"
   },
   {
    "duration": 11,
    "start_time": "2024-04-02T11:21:38.744Z"
   },
   {
    "duration": 159,
    "start_time": "2024-04-02T11:21:38.756Z"
   },
   {
    "duration": 285,
    "start_time": "2024-04-02T11:21:38.916Z"
   },
   {
    "duration": 6,
    "start_time": "2024-04-02T11:21:39.202Z"
   },
   {
    "duration": 175,
    "start_time": "2024-04-02T11:21:39.211Z"
   },
   {
    "duration": 83,
    "start_time": "2024-04-02T11:21:39.387Z"
   },
   {
    "duration": 308,
    "start_time": "2024-04-02T11:21:39.472Z"
   },
   {
    "duration": 438,
    "start_time": "2024-04-02T11:21:39.782Z"
   },
   {
    "duration": 297,
    "start_time": "2024-04-02T11:21:40.221Z"
   },
   {
    "duration": 3,
    "start_time": "2024-04-02T11:21:40.521Z"
   },
   {
    "duration": 42,
    "start_time": "2024-04-02T11:21:40.526Z"
   },
   {
    "duration": 13,
    "start_time": "2024-04-02T11:21:40.570Z"
   },
   {
    "duration": 5,
    "start_time": "2024-04-02T11:21:40.585Z"
   },
   {
    "duration": 23,
    "start_time": "2024-04-02T11:21:40.591Z"
   },
   {
    "duration": 31,
    "start_time": "2024-04-02T11:21:40.615Z"
   },
   {
    "duration": 504,
    "start_time": "2024-04-02T11:21:40.648Z"
   },
   {
    "duration": 536,
    "start_time": "2024-04-02T11:21:41.154Z"
   },
   {
    "duration": 7,
    "start_time": "2024-04-02T11:21:41.691Z"
   },
   {
    "duration": 18,
    "start_time": "2024-04-02T11:21:41.699Z"
   },
   {
    "duration": 26,
    "start_time": "2024-04-02T11:21:41.718Z"
   },
   {
    "duration": 60,
    "start_time": "2024-04-02T11:21:41.746Z"
   },
   {
    "duration": 12,
    "start_time": "2024-04-02T11:21:41.807Z"
   },
   {
    "duration": 33,
    "start_time": "2024-04-02T11:21:41.821Z"
   },
   {
    "duration": 7,
    "start_time": "2024-04-02T11:21:41.855Z"
   },
   {
    "duration": 91,
    "start_time": "2024-04-02T11:21:41.864Z"
   },
   {
    "duration": 2,
    "start_time": "2024-04-02T11:21:41.957Z"
   },
   {
    "duration": 21,
    "start_time": "2024-04-02T11:21:41.961Z"
   },
   {
    "duration": 31,
    "start_time": "2024-04-02T11:21:41.983Z"
   },
   {
    "duration": 26,
    "start_time": "2024-04-02T11:21:42.016Z"
   },
   {
    "duration": 16,
    "start_time": "2024-04-02T11:21:42.044Z"
   },
   {
    "duration": 27,
    "start_time": "2024-04-02T11:21:42.062Z"
   },
   {
    "duration": 29,
    "start_time": "2024-04-02T11:21:42.091Z"
   },
   {
    "duration": 16,
    "start_time": "2024-04-02T11:21:42.122Z"
   },
   {
    "duration": 25,
    "start_time": "2024-04-02T11:21:42.139Z"
   },
   {
    "duration": 150,
    "start_time": "2024-04-02T11:23:10.309Z"
   },
   {
    "duration": 132,
    "start_time": "2024-09-24T09:34:24.115Z"
   }
  ],
  "kernelspec": {
   "display_name": "Python 3 (ipykernel)",
   "language": "python",
   "name": "python3"
  },
  "language_info": {
   "codemirror_mode": {
    "name": "ipython",
    "version": 3
   },
   "file_extension": ".py",
   "mimetype": "text/x-python",
   "name": "python",
   "nbconvert_exporter": "python",
   "pygments_lexer": "ipython3",
   "version": "3.9.5"
  },
  "toc": {
   "base_numbering": 1,
   "nav_menu": {},
   "number_sections": true,
   "sideBar": true,
   "skip_h1_title": true,
   "title_cell": "Table of Contents",
   "title_sidebar": "Contents",
   "toc_cell": false,
   "toc_position": {
    "height": "calc(100% - 180px)",
    "left": "10px",
    "top": "150px",
    "width": "476.542px"
   },
   "toc_section_display": true,
   "toc_window_display": false
  }
 },
 "nbformat": 4,
 "nbformat_minor": 5
}
